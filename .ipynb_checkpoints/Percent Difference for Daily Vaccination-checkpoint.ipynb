{
 "cells": [
  {
   "cell_type": "code",
   "execution_count": 2,
   "metadata": {},
   "outputs": [],
   "source": [
    "# importing packages\n",
    "import numpy as np\n",
    "import pandas as pd\n",
    "import matplotlib.pyplot as plt\n",
    "import seaborn as sns"
   ]
  },
  {
   "cell_type": "code",
   "execution_count": 3,
   "metadata": {},
   "outputs": [],
   "source": [
    "df = pd.read_csv(\"country_vaccinations.csv\") # using the new and updated vaccine dataset"
   ]
  },
  {
   "cell_type": "code",
   "execution_count": 4,
   "metadata": {},
   "outputs": [
    {
     "data": {
      "text/html": [
       "<div>\n",
       "<style scoped>\n",
       "    .dataframe tbody tr th:only-of-type {\n",
       "        vertical-align: middle;\n",
       "    }\n",
       "\n",
       "    .dataframe tbody tr th {\n",
       "        vertical-align: top;\n",
       "    }\n",
       "\n",
       "    .dataframe thead th {\n",
       "        text-align: right;\n",
       "    }\n",
       "</style>\n",
       "<table border=\"1\" class=\"dataframe\">\n",
       "  <thead>\n",
       "    <tr style=\"text-align: right;\">\n",
       "      <th></th>\n",
       "      <th>country</th>\n",
       "      <th>iso_code</th>\n",
       "      <th>date</th>\n",
       "      <th>total_vaccinations</th>\n",
       "      <th>people_vaccinated</th>\n",
       "      <th>people_fully_vaccinated</th>\n",
       "      <th>daily_vaccinations_raw</th>\n",
       "      <th>daily_vaccinations</th>\n",
       "      <th>total_vaccinations_per_hundred</th>\n",
       "      <th>people_vaccinated_per_hundred</th>\n",
       "      <th>people_fully_vaccinated_per_hundred</th>\n",
       "      <th>daily_vaccinations_per_million</th>\n",
       "      <th>vaccines</th>\n",
       "      <th>source_name</th>\n",
       "      <th>source_website</th>\n",
       "    </tr>\n",
       "  </thead>\n",
       "  <tbody>\n",
       "    <tr>\n",
       "      <th>0</th>\n",
       "      <td>Albania</td>\n",
       "      <td>ALB</td>\n",
       "      <td>2021-01-10</td>\n",
       "      <td>0.0</td>\n",
       "      <td>0.0</td>\n",
       "      <td>NaN</td>\n",
       "      <td>NaN</td>\n",
       "      <td>NaN</td>\n",
       "      <td>0.00</td>\n",
       "      <td>0.00</td>\n",
       "      <td>NaN</td>\n",
       "      <td>NaN</td>\n",
       "      <td>Pfizer/BioNTech</td>\n",
       "      <td>Ministry of Health</td>\n",
       "      <td>https://shendetesia.gov.al/covid19-ministria-e...</td>\n",
       "    </tr>\n",
       "    <tr>\n",
       "      <th>1</th>\n",
       "      <td>Albania</td>\n",
       "      <td>ALB</td>\n",
       "      <td>2021-01-11</td>\n",
       "      <td>NaN</td>\n",
       "      <td>NaN</td>\n",
       "      <td>NaN</td>\n",
       "      <td>NaN</td>\n",
       "      <td>64.0</td>\n",
       "      <td>NaN</td>\n",
       "      <td>NaN</td>\n",
       "      <td>NaN</td>\n",
       "      <td>22.0</td>\n",
       "      <td>Pfizer/BioNTech</td>\n",
       "      <td>Ministry of Health</td>\n",
       "      <td>https://shendetesia.gov.al/covid19-ministria-e...</td>\n",
       "    </tr>\n",
       "    <tr>\n",
       "      <th>2</th>\n",
       "      <td>Albania</td>\n",
       "      <td>ALB</td>\n",
       "      <td>2021-01-12</td>\n",
       "      <td>128.0</td>\n",
       "      <td>128.0</td>\n",
       "      <td>NaN</td>\n",
       "      <td>NaN</td>\n",
       "      <td>64.0</td>\n",
       "      <td>0.00</td>\n",
       "      <td>0.00</td>\n",
       "      <td>NaN</td>\n",
       "      <td>22.0</td>\n",
       "      <td>Pfizer/BioNTech</td>\n",
       "      <td>Ministry of Health</td>\n",
       "      <td>https://shendetesia.gov.al/covid19-ministria-e...</td>\n",
       "    </tr>\n",
       "    <tr>\n",
       "      <th>3</th>\n",
       "      <td>Albania</td>\n",
       "      <td>ALB</td>\n",
       "      <td>2021-01-13</td>\n",
       "      <td>188.0</td>\n",
       "      <td>188.0</td>\n",
       "      <td>NaN</td>\n",
       "      <td>60.0</td>\n",
       "      <td>63.0</td>\n",
       "      <td>0.01</td>\n",
       "      <td>0.01</td>\n",
       "      <td>NaN</td>\n",
       "      <td>22.0</td>\n",
       "      <td>Pfizer/BioNTech</td>\n",
       "      <td>Ministry of Health</td>\n",
       "      <td>https://shendetesia.gov.al/covid19-ministria-e...</td>\n",
       "    </tr>\n",
       "    <tr>\n",
       "      <th>4</th>\n",
       "      <td>Albania</td>\n",
       "      <td>ALB</td>\n",
       "      <td>2021-01-14</td>\n",
       "      <td>266.0</td>\n",
       "      <td>266.0</td>\n",
       "      <td>NaN</td>\n",
       "      <td>78.0</td>\n",
       "      <td>66.0</td>\n",
       "      <td>0.01</td>\n",
       "      <td>0.01</td>\n",
       "      <td>NaN</td>\n",
       "      <td>23.0</td>\n",
       "      <td>Pfizer/BioNTech</td>\n",
       "      <td>Ministry of Health</td>\n",
       "      <td>https://shendetesia.gov.al/covid19-ministria-e...</td>\n",
       "    </tr>\n",
       "  </tbody>\n",
       "</table>\n",
       "</div>"
      ],
      "text/plain": [
       "   country iso_code        date  total_vaccinations  people_vaccinated  \\\n",
       "0  Albania      ALB  2021-01-10                 0.0                0.0   \n",
       "1  Albania      ALB  2021-01-11                 NaN                NaN   \n",
       "2  Albania      ALB  2021-01-12               128.0              128.0   \n",
       "3  Albania      ALB  2021-01-13               188.0              188.0   \n",
       "4  Albania      ALB  2021-01-14               266.0              266.0   \n",
       "\n",
       "   people_fully_vaccinated  daily_vaccinations_raw  daily_vaccinations  \\\n",
       "0                      NaN                     NaN                 NaN   \n",
       "1                      NaN                     NaN                64.0   \n",
       "2                      NaN                     NaN                64.0   \n",
       "3                      NaN                    60.0                63.0   \n",
       "4                      NaN                    78.0                66.0   \n",
       "\n",
       "   total_vaccinations_per_hundred  people_vaccinated_per_hundred  \\\n",
       "0                            0.00                           0.00   \n",
       "1                             NaN                            NaN   \n",
       "2                            0.00                           0.00   \n",
       "3                            0.01                           0.01   \n",
       "4                            0.01                           0.01   \n",
       "\n",
       "   people_fully_vaccinated_per_hundred  daily_vaccinations_per_million  \\\n",
       "0                                  NaN                             NaN   \n",
       "1                                  NaN                            22.0   \n",
       "2                                  NaN                            22.0   \n",
       "3                                  NaN                            22.0   \n",
       "4                                  NaN                            23.0   \n",
       "\n",
       "          vaccines         source_name  \\\n",
       "0  Pfizer/BioNTech  Ministry of Health   \n",
       "1  Pfizer/BioNTech  Ministry of Health   \n",
       "2  Pfizer/BioNTech  Ministry of Health   \n",
       "3  Pfizer/BioNTech  Ministry of Health   \n",
       "4  Pfizer/BioNTech  Ministry of Health   \n",
       "\n",
       "                                      source_website  \n",
       "0  https://shendetesia.gov.al/covid19-ministria-e...  \n",
       "1  https://shendetesia.gov.al/covid19-ministria-e...  \n",
       "2  https://shendetesia.gov.al/covid19-ministria-e...  \n",
       "3  https://shendetesia.gov.al/covid19-ministria-e...  \n",
       "4  https://shendetesia.gov.al/covid19-ministria-e...  "
      ]
     },
     "execution_count": 4,
     "metadata": {},
     "output_type": "execute_result"
    }
   ],
   "source": [
    "df.head() # first 5 rows"
   ]
  },
  {
   "cell_type": "markdown",
   "metadata": {},
   "source": [
    "# Calculating Percent Differences BEFORE Cleaning Daily Vaccinations"
   ]
  },
  {
   "cell_type": "code",
   "execution_count": 5,
   "metadata": {},
   "outputs": [],
   "source": [
    "# create a list of each unique country\n",
    "country_list = list(df['country'].unique())"
   ]
  },
  {
   "cell_type": "code",
   "execution_count": 6,
   "metadata": {},
   "outputs": [],
   "source": [
    "# initialize a dataframe for percent difference of each country\n",
    "percent_df = pd.DataFrame(columns=['country','percent_difference'])\n",
    "\n",
    "\n",
    "for country in country_list:\n",
    "    '''\n",
    "    calculate percent_difference for each country and add to dataframe\n",
    "    '''\n",
    "    \n",
    "    # filter dataframe to country in current loop\n",
    "    country_df = df[df['country'] == country]\n",
    "    \n",
    "    # calculate sum of daily vaccinations and total vaccines\n",
    "    daily_sum = country_df['daily_vaccinations'].sum()\n",
    "    total_vaccines = country_df['total_vaccinations'].max()\n",
    "    \n",
    "    # calculate percent difference\n",
    "    percent_diff = abs(daily_sum - total_vaccines) / total_vaccines\n",
    "    percent_diff = round(percent_diff * 100, 2)\n",
    "    \n",
    "    # add country and calculation of percent difference to dataframe\n",
    "    percent_df = percent_df.append({'country':country,'percent_difference':percent_diff},ignore_index = True)"
   ]
  },
  {
   "cell_type": "code",
   "execution_count": 7,
   "metadata": {},
   "outputs": [
    {
     "data": {
      "text/html": [
       "<div>\n",
       "<style scoped>\n",
       "    .dataframe tbody tr th:only-of-type {\n",
       "        vertical-align: middle;\n",
       "    }\n",
       "\n",
       "    .dataframe tbody tr th {\n",
       "        vertical-align: top;\n",
       "    }\n",
       "\n",
       "    .dataframe thead th {\n",
       "        text-align: right;\n",
       "    }\n",
       "</style>\n",
       "<table border=\"1\" class=\"dataframe\">\n",
       "  <thead>\n",
       "    <tr style=\"text-align: right;\">\n",
       "      <th></th>\n",
       "      <th>country</th>\n",
       "      <th>percent_difference</th>\n",
       "    </tr>\n",
       "  </thead>\n",
       "  <tbody>\n",
       "    <tr>\n",
       "      <th>0</th>\n",
       "      <td>Albania</td>\n",
       "      <td>15.64</td>\n",
       "    </tr>\n",
       "    <tr>\n",
       "      <th>1</th>\n",
       "      <td>Algeria</td>\n",
       "      <td>7.91</td>\n",
       "    </tr>\n",
       "    <tr>\n",
       "      <th>2</th>\n",
       "      <td>Andorra</td>\n",
       "      <td>21.97</td>\n",
       "    </tr>\n",
       "    <tr>\n",
       "      <th>3</th>\n",
       "      <td>Anguilla</td>\n",
       "      <td>3.92</td>\n",
       "    </tr>\n",
       "    <tr>\n",
       "      <th>4</th>\n",
       "      <td>Argentina</td>\n",
       "      <td>13.34</td>\n",
       "    </tr>\n",
       "  </tbody>\n",
       "</table>\n",
       "</div>"
      ],
      "text/plain": [
       "     country  percent_difference\n",
       "0    Albania               15.64\n",
       "1    Algeria                7.91\n",
       "2    Andorra               21.97\n",
       "3   Anguilla                3.92\n",
       "4  Argentina               13.34"
      ]
     },
     "execution_count": 7,
     "metadata": {},
     "output_type": "execute_result"
    }
   ],
   "source": [
    "percent_df.head() # first 5 rows"
   ]
  },
  {
   "cell_type": "code",
   "execution_count": 8,
   "metadata": {},
   "outputs": [
    {
     "data": {
      "image/png": "[encoded data removed]",
      "text/plain": [
       "<Figure size 600x400 with 1 Axes>"
      ]
     },
     "metadata": {
      "needs_background": "light"
     },
     "output_type": "display_data"
    }
   ],
   "source": [
    "# create a boxplot for percent differences\n",
    "plt.figure(figsize=(6,4),dpi=100)\n",
    "plt.title('Percent Difference Between Total Vaccinations\\nand Sum of Daily Vaccinations by Countries')\n",
    "\n",
    "sns.boxplot(data=percent_df,y=\"percent_difference\");"
   ]
  },
  {
   "cell_type": "markdown",
   "metadata": {},
   "source": [
    "**Calculating 5-Number Summary**"
   ]
  },
  {
   "cell_type": "code",
   "execution_count": 15,
   "metadata": {},
   "outputs": [],
   "source": [
    "quartiles = np.percentile(percent_df['percent_difference'],[25,50,75]) # obtain q1, q2 (median), q3 "
   ]
  },
  {
   "cell_type": "code",
   "execution_count": 25,
   "metadata": {},
   "outputs": [],
   "source": [
    "df_min, df_max = percent_df['percent_difference'].min(), percent_df['percent_difference'].max() # obtain min and max"
   ]
  },
  {
   "cell_type": "code",
   "execution_count": 33,
   "metadata": {},
   "outputs": [
    {
     "name": "stdout",
     "output_type": "stream",
     "text": [
      "5-Number Summary:\n",
      "Min:\t 0.0\n",
      "Q1:\t 6.49\n",
      "Median:\t 10.98\n",
      "Q3:\t 23.19\n",
      "Max:\t 100.0\n"
     ]
    }
   ],
   "source": [
    "print('5-Number Summary:')\n",
    "print('Min:\\t',df_min)\n",
    "print('Q1:\\t',quartiles[0])\n",
    "print('Median:\\t',quartiles[1])\n",
    "print('Q3:\\t',quartiles[2])\n",
    "print('Max:\\t',df_max)"
   ]
  },
  {
   "cell_type": "markdown",
   "metadata": {},
   "source": [
    "Compared to Toby's boxplot, this boxplot has a much higher percent difference (median of about 10%) than Toby's boxplot (median of only about 2%). We'll want to get our boxplot to a lower average percent difference."
   ]
  },
  {
   "cell_type": "markdown",
   "metadata": {},
   "source": [
    "# Calculating Percent Differences AFTER Cleaning Daily Vaccinations"
   ]
  },
  {
   "cell_type": "markdown",
   "metadata": {},
   "source": [
    "Haven't decided on how to clean daily vaccines. Linear Regression is an option but don't know if it will work best.\n",
    "\n",
    "Below, I look at a time graph of daily vaccinations for Albania."
   ]
  },
  {
   "cell_type": "code",
   "execution_count": 9,
   "metadata": {},
   "outputs": [],
   "source": [
    "country_df = df[df['country'] == 'Albania'] # filter dataframe to the country of Alabania"
   ]
  },
  {
   "cell_type": "code",
   "execution_count": 10,
   "metadata": {},
   "outputs": [],
   "source": [
    "date_df = country_df[['date','daily_vaccinations']].sort_values('date',ascending=True) # sort by ascending date"
   ]
  },
  {
   "cell_type": "code",
   "execution_count": 11,
   "metadata": {},
   "outputs": [
    {
     "data": {
      "text/html": [
       "<div>\n",
       "<style scoped>\n",
       "    .dataframe tbody tr th:only-of-type {\n",
       "        vertical-align: middle;\n",
       "    }\n",
       "\n",
       "    .dataframe tbody tr th {\n",
       "        vertical-align: top;\n",
       "    }\n",
       "\n",
       "    .dataframe thead th {\n",
       "        text-align: right;\n",
       "    }\n",
       "</style>\n",
       "<table border=\"1\" class=\"dataframe\">\n",
       "  <thead>\n",
       "    <tr style=\"text-align: right;\">\n",
       "      <th></th>\n",
       "      <th>date</th>\n",
       "      <th>daily_vaccinations</th>\n",
       "    </tr>\n",
       "  </thead>\n",
       "  <tbody>\n",
       "    <tr>\n",
       "      <th>0</th>\n",
       "      <td>2021-01-10</td>\n",
       "      <td>NaN</td>\n",
       "    </tr>\n",
       "    <tr>\n",
       "      <th>1</th>\n",
       "      <td>2021-01-11</td>\n",
       "      <td>64.0</td>\n",
       "    </tr>\n",
       "    <tr>\n",
       "      <th>2</th>\n",
       "      <td>2021-01-12</td>\n",
       "      <td>64.0</td>\n",
       "    </tr>\n",
       "    <tr>\n",
       "      <th>3</th>\n",
       "      <td>2021-01-13</td>\n",
       "      <td>63.0</td>\n",
       "    </tr>\n",
       "    <tr>\n",
       "      <th>4</th>\n",
       "      <td>2021-01-14</td>\n",
       "      <td>66.0</td>\n",
       "    </tr>\n",
       "  </tbody>\n",
       "</table>\n",
       "</div>"
      ],
      "text/plain": [
       "         date  daily_vaccinations\n",
       "0  2021-01-10                 NaN\n",
       "1  2021-01-11                64.0\n",
       "2  2021-01-12                64.0\n",
       "3  2021-01-13                63.0\n",
       "4  2021-01-14                66.0"
      ]
     },
     "execution_count": 11,
     "metadata": {},
     "output_type": "execute_result"
    }
   ],
   "source": [
    "date_df.head() # first 5 rows"
   ]
  },
  {
   "cell_type": "code",
   "execution_count": 44,
   "metadata": {},
   "outputs": [],
   "source": [
    "date_df[\"date\"] = pd.to_numeric(date_df[\"date\"].str.replace('-',''))"
   ]
  },
  {
   "cell_type": "code",
   "execution_count": 60,
   "metadata": {},
   "outputs": [],
   "source": [
    "date_df = date_df.dropna()"
   ]
  },
  {
   "cell_type": "code",
   "execution_count": 61,
   "metadata": {},
   "outputs": [
    {
     "data": {
      "image/png": "[encoded data removed]",
      "text/plain": [
       "<Figure size 432x288 with 1 Axes>"
      ]
     },
     "metadata": {
      "needs_background": "light"
     },
     "output_type": "display_data"
    }
   ],
   "source": [
    "# plot line graph of daily vaccinations for Alabania\n",
    "sns.lineplot(data=date_df,x='date',y='daily_vaccinations')\n",
    "plt.ticklabel_format(style='plain',axis='y')"
   ]
  },
  {
   "cell_type": "code",
   "execution_count": 62,
   "metadata": {},
   "outputs": [
    {
     "data": {
      "text/plain": [
       "<AxesSubplot:xlabel='date', ylabel='daily_vaccinations'>"
      ]
     },
     "execution_count": 62,
     "metadata": {},
     "output_type": "execute_result"
    },
    {
     "data": {
      "image/png": "[encoded data removed]",
      "text/plain": [
       "<Figure size 432x288 with 1 Axes>"
      ]
     },
     "metadata": {
      "needs_background": "light"
     },
     "output_type": "display_data"
    }
   ],
   "source": [
    "sns.scatterplot(data=date_df,x='date',y='daily_vaccinations')"
   ]
  },
  {
   "cell_type": "code",
   "execution_count": 63,
   "metadata": {},
   "outputs": [
    {
     "data": {
      "text/plain": [
       "<AxesSubplot:xlabel='date', ylabel='daily_vaccinations'>"
      ]
     },
     "execution_count": 63,
     "metadata": {},
     "output_type": "execute_result"
    },
    {
     "data": {
      "image/png": "[encoded data removed]",
      "text/plain": [
       "<Figure size 432x288 with 1 Axes>"
      ]
     },
     "metadata": {
      "needs_background": "light"
     },
     "output_type": "display_data"
    }
   ],
   "source": [
    "sns.regplot(data=date_df,x='date',y='daily_vaccinations')"
   ]
  },
  {
   "cell_type": "markdown",
   "metadata": {},
   "source": [
    "# Calculating R and R^2 for each Country"
   ]
  },
  {
   "cell_type": "markdown",
   "metadata": {},
   "source": [
    "Let's look at the coefficient of determinations for Alabania first, then expand to every country."
   ]
  },
  {
   "cell_type": "code",
   "execution_count": 67,
   "metadata": {},
   "outputs": [],
   "source": [
    "from sklearn.metrics import r2_score\n",
    "from scipy import stats\n",
    "from scipy.stats.stats import pearsonr"
   ]
  },
  {
   "cell_type": "code",
   "execution_count": 70,
   "metadata": {},
   "outputs": [
    {
     "data": {
      "text/plain": [
       "0.6701478684172141"
      ]
     },
     "execution_count": 70,
     "metadata": {},
     "output_type": "execute_result"
    }
   ],
   "source": [
    "# correlation value r for Alabania\n",
    "pearsonr(date_df['date'],date_df['daily_vaccinations'])[0]"
   ]
  },
  {
   "cell_type": "code",
   "execution_count": 71,
   "metadata": {},
   "outputs": [
    {
     "data": {
      "text/plain": [
       "0.4490981655441357"
      ]
     },
     "execution_count": 71,
     "metadata": {},
     "output_type": "execute_result"
    }
   ],
   "source": [
    "# r^2 value for Alabania\n",
    "0.6701478684172141 ** 2"
   ]
  },
  {
   "cell_type": "markdown",
   "metadata": {},
   "source": [
    "**Calculating correlation coefficient r**"
   ]
  },
  {
   "cell_type": "code",
   "execution_count": 123,
   "metadata": {},
   "outputs": [
    {
     "name": "stdout",
     "output_type": "stream",
     "text": [
      "Albania\n",
      "0.6701478684172141\n",
      "Algeria\n",
      "0.9027760553918635\n",
      "Andorra\n",
      "-0.04008001661920501\n",
      "Anguilla\n",
      "-0.08468973248611567\n",
      "Argentina\n",
      "0.05940606597290925\n",
      "Australia\n",
      "0.8302600895610269\n",
      "Austria\n",
      "0.7218771291079717\n",
      "Azerbaijan\n",
      "0.8047561257223187\n",
      "Bahrain\n",
      "0.3126927002237308\n",
      "Bangladesh\n",
      "0.5307353061982312\n",
      "Barbados\n",
      "0.5280336604763141\n",
      "Belarus\n",
      "nan\n",
      "Belgium\n",
      "0.4472920458896968\n",
      "Belize\n",
      "-0.37123201888455487\n",
      "Bermuda\n",
      "0.9353171266457014\n",
      "Bolivia\n",
      "0.34681314328739277\n",
      "Brazil\n",
      "0.7791710740835927\n",
      "Bulgaria\n",
      "0.0983663249414364\n",
      "Cambodia\n",
      "0.9056894760841154\n",
      "Canada\n",
      "0.6408762943376526\n",
      "Cayman Islands\n",
      "0.21201994346682676\n",
      "Chile\n",
      "0.2778726350600169\n",
      "China\n",
      "0.5804409923126029\n",
      "Colombia\n",
      "0.9112946395816487\n",
      "Costa Rica\n",
      "0.36652264638752763\n",
      "Croatia\n",
      "0.18702337071871192\n",
      "Cyprus\n",
      "0.8639265682113947\n",
      "Czechia\n",
      "0.4323878295579421\n",
      "Denmark\n",
      "0.3047488570243669\n",
      "Dominican Republic\n",
      "0.803480687903172\n",
      "Ecuador\n",
      "0.7093532960352487\n",
      "Egypt\n",
      "nan\n",
      "El Salvador\n",
      "0.8588322996434957\n",
      "England\n",
      "0.7421745474254499\n",
      "Estonia\n",
      "0.3273910340795627\n",
      "Faeroe Islands"
     ]
    },
    {
     "name": "stderr",
     "output_type": "stream",
     "text": [
      "/opt/anaconda3/lib/python3.7/site-packages/scipy/stats/stats.py:3913: PearsonRConstantInputWarning: An input array is constant; the correlation coefficent is not defined.\n",
      "  warnings.warn(PearsonRConstantInputWarning())\n",
      "/opt/anaconda3/lib/python3.7/site-packages/scipy/stats/stats.py:3913: PearsonRConstantInputWarning: An input array is constant; the correlation coefficent is not defined.\n",
      "  warnings.warn(PearsonRConstantInputWarning())\n",
      "/opt/anaconda3/lib/python3.7/site-packages/scipy/stats/stats.py:3913: PearsonRConstantInputWarning: An input array is constant; the correlation coefficent is not defined.\n",
      "  warnings.warn(PearsonRConstantInputWarning())\n"
     ]
    },
    {
     "name": "stdout",
     "output_type": "stream",
     "text": [
      "\n",
      "0.17766021761808423\n",
      "Falkland Islands\n",
      "-0.8925544506966803\n",
      "Finland\n",
      "0.8614923031039259\n",
      "France\n",
      "0.43189397187703843\n",
      "Germany\n",
      "0.43014142044887815\n",
      "Gibraltar\n",
      "0.2889956167212987\n",
      "Greece\n",
      "0.35806775406804575\n",
      "Greenland\n",
      "nan\n",
      "Guatemala\n",
      "-0.7892156807967676\n",
      "Guernsey\n",
      "-0.5468641055437807\n",
      "Guyana\n",
      "0.9315885051121782\n",
      "Hong Kong\n",
      "0.8890368716465881\n",
      "Hungary\n",
      "0.2478671558808323\n",
      "Iceland\n",
      "0.14498526312434892\n",
      "India\n",
      "0.8623343717984373\n",
      "Indonesia\n",
      "0.9402366919291694\n",
      "Iran\n",
      "-0.8804151375688396\n",
      "Ireland\n",
      "0.6361832043481676\n",
      "Isle of Man\n",
      "0.690569610613109\n",
      "Israel\n",
      "0.6231148628809627\n",
      "Italy\n",
      "0.5232303050180203\n",
      "Japan\n",
      "0.18627863555962185\n",
      "Jersey\n",
      "0.3996811056078177\n",
      "Jordan\n",
      "0.09514516407785142\n",
      "Kazakhstan\n",
      "-0.9259244911673229\n",
      "Kuwait\n",
      "0.21526868752357878\n",
      "Latvia\n",
      "0.862486619128276\n",
      "Lebanon\n",
      "0.7452106395339158\n",
      "Liechtenstein\n",
      "0.44607704406624954\n",
      "Lithuania\n",
      "0.21242812155843893\n",
      "Luxembourg\n",
      "0.2328247982161611\n",
      "Macao\n",
      "-0.872584018094086\n",
      "Malaysia\n",
      "0.853125133562521\n",
      "Maldives\n",
      "0.5844220068159337\n",
      "Malta\n",
      "0.8776852563295435\n",
      "Mauritius\n",
      "0.8187513555416889\n",
      "Mexico\n",
      "0.2703393504968878\n",
      "Monaco\n",
      "nan\n",
      "Mongolia\n",
      "nan\n",
      "Montenegro\n",
      "-0.9350513769976401\n",
      "Montserrat\n",
      "nan\n",
      "Morocco\n",
      "0.581375297909363\n",
      "Myanmar\n",
      "0.514535177257974\n",
      "Nepal\n",
      "-0.822482373862459\n",
      "Netherlands\n",
      "0.9087125911308825\n",
      "New Zealand\n",
      "0.9170541435432936\n"
     ]
    },
    {
     "name": "stderr",
     "output_type": "stream",
     "text": [
      "/opt/anaconda3/lib/python3.7/site-packages/scipy/stats/stats.py:3913: PearsonRConstantInputWarning: An input array is constant; the correlation coefficent is not defined.\n",
      "  warnings.warn(PearsonRConstantInputWarning())\n",
      "/opt/anaconda3/lib/python3.7/site-packages/scipy/stats/stats.py:3913: PearsonRConstantInputWarning: An input array is constant; the correlation coefficent is not defined.\n",
      "  warnings.warn(PearsonRConstantInputWarning())\n",
      "/opt/anaconda3/lib/python3.7/site-packages/scipy/stats/stats.py:3913: PearsonRConstantInputWarning: An input array is constant; the correlation coefficent is not defined.\n",
      "  warnings.warn(PearsonRConstantInputWarning())\n"
     ]
    },
    {
     "name": "stdout",
     "output_type": "stream",
     "text": [
      "Northern Cyprus\n",
      "0.8586837612986364\n",
      "Northern Ireland\n",
      "0.6985778819915324\n",
      "Norway\n",
      "0.3750988194912096\n",
      "Oman\n",
      "-0.20366281822720902\n",
      "Pakistan\n",
      "0.8299715037378579\n",
      "Panama\n",
      "0.6983481599177095\n",
      "Paraguay\n",
      "nan\n",
      "Peru\n",
      "0.9994000037529578\n",
      "Philippines\n",
      "nan\n",
      "Poland\n",
      "0.36277031262803633\n",
      "Portugal\n",
      "0.2536047389450626\n",
      "Qatar\n",
      "0.3138482436827359\n",
      "Romania\n",
      "0.47580724078074854\n",
      "Russia\n",
      "0.5404433229947582\n",
      "Rwanda\n",
      "0.36117987633696536\n",
      "San Marino\n",
      "0.5589389534366836\n",
      "Saudi Arabia\n",
      "0.41348898769546494\n",
      "Scotland\n",
      "0.5538776336053154\n",
      "Senegal\n",
      "0.6376929538695236\n",
      "Serbia\n",
      "0.4549673104852504\n",
      "Seychelles\n",
      "0.16626999412352583\n",
      "Singapore\n",
      "0.8623503259288638\n"
     ]
    },
    {
     "name": "stderr",
     "output_type": "stream",
     "text": [
      "/opt/anaconda3/lib/python3.7/site-packages/scipy/stats/stats.py:3913: PearsonRConstantInputWarning: An input array is constant; the correlation coefficent is not defined.\n",
      "  warnings.warn(PearsonRConstantInputWarning())\n",
      "/opt/anaconda3/lib/python3.7/site-packages/scipy/stats/stats.py:3913: PearsonRConstantInputWarning: An input array is constant; the correlation coefficent is not defined.\n",
      "  warnings.warn(PearsonRConstantInputWarning())\n"
     ]
    },
    {
     "name": "stdout",
     "output_type": "stream",
     "text": [
      "Slovakia\n",
      "0.9030602041795796\n",
      "Slovenia\n",
      "0.40303749501285785\n",
      "South Africa\n",
      "0.9811081029115656\n",
      "South Korea\n",
      "0.675576054326986\n",
      "Spain\n",
      "0.80213071604195\n",
      "Sri Lanka\n",
      "0.5541304277669276\n",
      "Sweden\n",
      "0.4608414084375916\n",
      "Switzerland\n",
      "0.5478355279413983\n",
      "Thailand\n",
      "0.510168669237564\n",
      "Trinidad and Tobago\n",
      "nan\n",
      "Turkey\n",
      "0.3982143368404663\n",
      "Turks and Caicos Islands\n",
      "nan\n",
      "Ukraine\n",
      "0.4784969158389787\n",
      "United Arab Emirates\n",
      "-0.06367660479995739\n",
      "United Kingdom\n",
      "0.7280225284078564\n",
      "United States\n",
      "0.6255154340584929\n",
      "Uruguay\n",
      "0.5811792417856195\n",
      "Venezuela\n",
      "0.8171293078433015\n",
      "Wales\n",
      "0.6474471016712149\n",
      "Zimbabwe\n",
      "0.802704975592478\n"
     ]
    },
    {
     "name": "stderr",
     "output_type": "stream",
     "text": [
      "/opt/anaconda3/lib/python3.7/site-packages/scipy/stats/stats.py:3913: PearsonRConstantInputWarning: An input array is constant; the correlation coefficent is not defined.\n",
      "  warnings.warn(PearsonRConstantInputWarning())\n",
      "/opt/anaconda3/lib/python3.7/site-packages/scipy/stats/stats.py:3913: PearsonRConstantInputWarning: An input array is constant; the correlation coefficent is not defined.\n",
      "  warnings.warn(PearsonRConstantInputWarning())\n"
     ]
    }
   ],
   "source": [
    "# initialize list for r coefficients\n",
    "r_coeff_list = []\n",
    "\n",
    "for country in country_list:\n",
    "    '''\n",
    "    calculate correlation coefficient r for each country\n",
    "    '''\n",
    "    \n",
    "    # filter dataframe to country in current loop\n",
    "    country_df = df[df['country'] == country]   \n",
    "    \n",
    "    # select only date and daily_vaccinations columns\n",
    "    date_df = country_df[['date','daily_vaccinations']].sort_values('date',ascending=True) # sort by ascending date\n",
    "    \n",
    "    # convert date values to numeric\n",
    "    date_df[\"date\"] = pd.to_numeric(date_df[\"date\"].str.replace('-',''))\n",
    "    \n",
    "    # drop any na values in the daily_vaccinations field\n",
    "    date_df = date_df.dropna()\n",
    "    \n",
    "    # check if there are no daily_vaccinations data available\n",
    "    if len(date_df['daily_vaccinations']) == 0:\n",
    "        r_coeff_list.append('no_daily')\n",
    "        continue\n",
    "    \n",
    "    # print country name and correlation value r\n",
    "    print(country)\n",
    "    print(pearsonr(date_df['date'],date_df['daily_vaccinations'])[0])\n",
    "    \n",
    "    # append data to \n",
    "    r_coeff_list.append(pearsonr(date_df['date'],date_df['daily_vaccinations'])[0])"
   ]
  },
  {
   "cell_type": "code",
   "execution_count": 127,
   "metadata": {},
   "outputs": [],
   "source": [
    "# create a dataframe containing r_coefficient for each country\n",
    "d = {'country': country_list, 'r_coefficient': r_coeff_list}\n",
    "r_df = pd.DataFrame(data=d)"
   ]
  },
  {
   "cell_type": "code",
   "execution_count": 128,
   "metadata": {},
   "outputs": [
    {
     "data": {
      "text/html": [
       "<div>\n",
       "<style scoped>\n",
       "    .dataframe tbody tr th:only-of-type {\n",
       "        vertical-align: middle;\n",
       "    }\n",
       "\n",
       "    .dataframe tbody tr th {\n",
       "        vertical-align: top;\n",
       "    }\n",
       "\n",
       "    .dataframe thead th {\n",
       "        text-align: right;\n",
       "    }\n",
       "</style>\n",
       "<table border=\"1\" class=\"dataframe\">\n",
       "  <thead>\n",
       "    <tr style=\"text-align: right;\">\n",
       "      <th></th>\n",
       "      <th>country</th>\n",
       "      <th>r_coefficient</th>\n",
       "    </tr>\n",
       "  </thead>\n",
       "  <tbody>\n",
       "    <tr>\n",
       "      <th>0</th>\n",
       "      <td>Albania</td>\n",
       "      <td>0.670148</td>\n",
       "    </tr>\n",
       "    <tr>\n",
       "      <th>1</th>\n",
       "      <td>Algeria</td>\n",
       "      <td>0.902776</td>\n",
       "    </tr>\n",
       "    <tr>\n",
       "      <th>2</th>\n",
       "      <td>Andorra</td>\n",
       "      <td>-0.040080</td>\n",
       "    </tr>\n",
       "    <tr>\n",
       "      <th>3</th>\n",
       "      <td>Anguilla</td>\n",
       "      <td>-0.084690</td>\n",
       "    </tr>\n",
       "    <tr>\n",
       "      <th>4</th>\n",
       "      <td>Argentina</td>\n",
       "      <td>0.059406</td>\n",
       "    </tr>\n",
       "  </tbody>\n",
       "</table>\n",
       "</div>"
      ],
      "text/plain": [
       "     country r_coefficient\n",
       "0    Albania      0.670148\n",
       "1    Algeria      0.902776\n",
       "2    Andorra     -0.040080\n",
       "3   Anguilla     -0.084690\n",
       "4  Argentina      0.059406"
      ]
     },
     "execution_count": 128,
     "metadata": {},
     "output_type": "execute_result"
    }
   ],
   "source": [
    "r_df.head() # first 5 rows"
   ]
  },
  {
   "cell_type": "code",
   "execution_count": 129,
   "metadata": {},
   "outputs": [
    {
     "name": "stdout",
     "output_type": "stream",
     "text": [
      "Countries with no daily vaccinations data: 2\n",
      "Countries with missing data: 10\n"
     ]
    }
   ],
   "source": [
    "print(\"Countries with no daily vaccinations data:\",(r_df.r_coefficient == \"no_daily\").sum())\n",
    "print(\"Countries with missing data:\", r_df.r_coefficient.isna().sum())"
   ]
  },
  {
   "cell_type": "code",
   "execution_count": 130,
   "metadata": {},
   "outputs": [
    {
     "data": {
      "text/html": [
       "<div>\n",
       "<style scoped>\n",
       "    .dataframe tbody tr th:only-of-type {\n",
       "        vertical-align: middle;\n",
       "    }\n",
       "\n",
       "    .dataframe tbody tr th {\n",
       "        vertical-align: top;\n",
       "    }\n",
       "\n",
       "    .dataframe thead th {\n",
       "        text-align: right;\n",
       "    }\n",
       "</style>\n",
       "<table border=\"1\" class=\"dataframe\">\n",
       "  <thead>\n",
       "    <tr style=\"text-align: right;\">\n",
       "      <th></th>\n",
       "      <th>country</th>\n",
       "      <th>r_coefficient</th>\n",
       "    </tr>\n",
       "  </thead>\n",
       "  <tbody>\n",
       "    <tr>\n",
       "      <th>46</th>\n",
       "      <td>Honduras</td>\n",
       "      <td>no_daily</td>\n",
       "    </tr>\n",
       "    <tr>\n",
       "      <th>97</th>\n",
       "      <td>Saint Helena</td>\n",
       "      <td>no_daily</td>\n",
       "    </tr>\n",
       "  </tbody>\n",
       "</table>\n",
       "</div>"
      ],
      "text/plain": [
       "         country r_coefficient\n",
       "46      Honduras      no_daily\n",
       "97  Saint Helena      no_daily"
      ]
     },
     "execution_count": 130,
     "metadata": {},
     "output_type": "execute_result"
    }
   ],
   "source": [
    "# countries that have no data available for daily vaccinations\n",
    "r_df[r_df['r_coefficient'] == \"no_daily\"]"
   ]
  },
  {
   "cell_type": "code",
   "execution_count": 131,
   "metadata": {},
   "outputs": [
    {
     "data": {
      "text/html": [
       "<div>\n",
       "<style scoped>\n",
       "    .dataframe tbody tr th:only-of-type {\n",
       "        vertical-align: middle;\n",
       "    }\n",
       "\n",
       "    .dataframe tbody tr th {\n",
       "        vertical-align: top;\n",
       "    }\n",
       "\n",
       "    .dataframe thead th {\n",
       "        text-align: right;\n",
       "    }\n",
       "</style>\n",
       "<table border=\"1\" class=\"dataframe\">\n",
       "  <thead>\n",
       "    <tr style=\"text-align: right;\">\n",
       "      <th></th>\n",
       "      <th>country</th>\n",
       "      <th>r_coefficient</th>\n",
       "    </tr>\n",
       "  </thead>\n",
       "  <tbody>\n",
       "    <tr>\n",
       "      <th>11</th>\n",
       "      <td>Belarus</td>\n",
       "      <td>NaN</td>\n",
       "    </tr>\n",
       "    <tr>\n",
       "      <th>31</th>\n",
       "      <td>Egypt</td>\n",
       "      <td>NaN</td>\n",
       "    </tr>\n",
       "    <tr>\n",
       "      <th>42</th>\n",
       "      <td>Greenland</td>\n",
       "      <td>NaN</td>\n",
       "    </tr>\n",
       "    <tr>\n",
       "      <th>73</th>\n",
       "      <td>Monaco</td>\n",
       "      <td>NaN</td>\n",
       "    </tr>\n",
       "    <tr>\n",
       "      <th>74</th>\n",
       "      <td>Mongolia</td>\n",
       "      <td>NaN</td>\n",
       "    </tr>\n",
       "    <tr>\n",
       "      <th>76</th>\n",
       "      <td>Montserrat</td>\n",
       "      <td>NaN</td>\n",
       "    </tr>\n",
       "    <tr>\n",
       "      <th>88</th>\n",
       "      <td>Paraguay</td>\n",
       "      <td>NaN</td>\n",
       "    </tr>\n",
       "    <tr>\n",
       "      <th>90</th>\n",
       "      <td>Philippines</td>\n",
       "      <td>NaN</td>\n",
       "    </tr>\n",
       "    <tr>\n",
       "      <th>114</th>\n",
       "      <td>Trinidad and Tobago</td>\n",
       "      <td>NaN</td>\n",
       "    </tr>\n",
       "    <tr>\n",
       "      <th>116</th>\n",
       "      <td>Turks and Caicos Islands</td>\n",
       "      <td>NaN</td>\n",
       "    </tr>\n",
       "  </tbody>\n",
       "</table>\n",
       "</div>"
      ],
      "text/plain": [
       "                      country r_coefficient\n",
       "11                    Belarus           NaN\n",
       "31                      Egypt           NaN\n",
       "42                  Greenland           NaN\n",
       "73                     Monaco           NaN\n",
       "74                   Mongolia           NaN\n",
       "76                 Montserrat           NaN\n",
       "88                   Paraguay           NaN\n",
       "90                Philippines           NaN\n",
       "114       Trinidad and Tobago           NaN\n",
       "116  Turks and Caicos Islands           NaN"
      ]
     },
     "execution_count": 131,
     "metadata": {},
     "output_type": "execute_result"
    }
   ],
   "source": [
    "# countries with missing r_coefficient values.\n",
    "# The r_coefficients are missing because there are only 2 total_vaccination data available \n",
    "# for a particular country (data for total_vaccinations are on the first day, and on the last day)\n",
    "r_df[r_df['r_coefficient'].isnull()]"
   ]
  },
  {
   "cell_type": "markdown",
   "metadata": {},
   "source": [
    "For easier manipulation with r_df, I'll replace \"no_daily\" values with nan."
   ]
  },
  {
   "cell_type": "code",
   "execution_count": 132,
   "metadata": {},
   "outputs": [],
   "source": [
    "# replacing \"no_daily\" with nan\n",
    "r_df['r_coefficient'] = r_df['r_coefficient'].replace(\"no_daily\",np.nan)"
   ]
  },
  {
   "cell_type": "code",
   "execution_count": 135,
   "metadata": {},
   "outputs": [],
   "source": [
    "# add column for r^2\n",
    "r_df['r_squared'] = r_df['r_coefficient'] ** 2"
   ]
  },
  {
   "cell_type": "code",
   "execution_count": 163,
   "metadata": {},
   "outputs": [
    {
     "data": {
      "text/html": [
       "<div>\n",
       "<style scoped>\n",
       "    .dataframe tbody tr th:only-of-type {\n",
       "        vertical-align: middle;\n",
       "    }\n",
       "\n",
       "    .dataframe tbody tr th {\n",
       "        vertical-align: top;\n",
       "    }\n",
       "\n",
       "    .dataframe thead th {\n",
       "        text-align: right;\n",
       "    }\n",
       "</style>\n",
       "<table border=\"1\" class=\"dataframe\">\n",
       "  <thead>\n",
       "    <tr style=\"text-align: right;\">\n",
       "      <th></th>\n",
       "      <th>country</th>\n",
       "      <th>r_coefficient</th>\n",
       "      <th>r_squared</th>\n",
       "    </tr>\n",
       "  </thead>\n",
       "  <tbody>\n",
       "    <tr>\n",
       "      <th>0</th>\n",
       "      <td>Albania</td>\n",
       "      <td>0.670148</td>\n",
       "      <td>0.449098</td>\n",
       "    </tr>\n",
       "    <tr>\n",
       "      <th>1</th>\n",
       "      <td>Algeria</td>\n",
       "      <td>0.902776</td>\n",
       "      <td>0.815005</td>\n",
       "    </tr>\n",
       "    <tr>\n",
       "      <th>2</th>\n",
       "      <td>Andorra</td>\n",
       "      <td>-0.040080</td>\n",
       "      <td>0.001606</td>\n",
       "    </tr>\n",
       "    <tr>\n",
       "      <th>3</th>\n",
       "      <td>Anguilla</td>\n",
       "      <td>-0.084690</td>\n",
       "      <td>0.007172</td>\n",
       "    </tr>\n",
       "    <tr>\n",
       "      <th>4</th>\n",
       "      <td>Argentina</td>\n",
       "      <td>0.059406</td>\n",
       "      <td>0.003529</td>\n",
       "    </tr>\n",
       "  </tbody>\n",
       "</table>\n",
       "</div>"
      ],
      "text/plain": [
       "     country  r_coefficient  r_squared\n",
       "0    Albania       0.670148   0.449098\n",
       "1    Algeria       0.902776   0.815005\n",
       "2    Andorra      -0.040080   0.001606\n",
       "3   Anguilla      -0.084690   0.007172\n",
       "4  Argentina       0.059406   0.003529"
      ]
     },
     "execution_count": 163,
     "metadata": {},
     "output_type": "execute_result"
    }
   ],
   "source": [
    "r_df.head() # first 5 rows"
   ]
  },
  {
   "cell_type": "code",
   "execution_count": 180,
   "metadata": {},
   "outputs": [],
   "source": [
    "# calculating proportion of countries within certain intervals\n",
    "interval_one = ((r_df.r_squared > 0) & (r_df.r_squared <= 0.01)).sum() / 125\n",
    "interval_two = ((r_df.r_squared > 0.01) & (r_df.r_squared <= 0.7)).sum() / 125\n",
    "interval_three = ((r_df.r_squared > 0.7) & (r_df.r_squared <= 0.8)).sum() / 125\n",
    "interval_four = ((r_df.r_squared > 0.8) & (r_df.r_squared <= 0.9)).sum() / 125\n",
    "interval_five = ((r_df.r_squared > 0.9) & (r_df.r_squared <= 1.0)).sum() / 125"
   ]
  },
  {
   "cell_type": "code",
   "execution_count": 198,
   "metadata": {},
   "outputs": [
    {
     "name": "stdout",
     "output_type": "stream",
     "text": [
      "Not enough data:\t 0.096\n",
      "\t(0,0.01]:\t 0.048\n",
      "\t(0.01,0.7]:\t 0.648\n",
      "\t(0.7,0.8]:\t 0.104\n",
      "\t(0.8,0.9]:\t 0.088\n",
      "\t(0.9,1.0]:\t 0.016\n"
     ]
    }
   ],
   "source": [
    "# print proportion of r^2 values in a certain interval\n",
    "print('Not enough data:\\t',(r_df.r_coefficient.isna().sum() / 125))\n",
    "print('\\t(0,0.01]:\\t', interval_one)\n",
    "print('\\t(0.01,0.7]:\\t', interval_two)\n",
    "print('\\t(0.7,0.8]:\\t', interval_three)\n",
    "print('\\t(0.8,0.9]:\\t', interval_four)\n",
    "print('\\t(0.9,1.0]:\\t', interval_five)"
   ]
  },
  {
   "cell_type": "code",
   "execution_count": null,
   "metadata": {},
   "outputs": [],
   "source": []
  }
 ],
 "metadata": {
  "kernelspec": {
   "display_name": "Python 3",
   "language": "python",
   "name": "python3"
  },
  "language_info": {
   "codemirror_mode": {
    "name": "ipython",
    "version": 3
   },
   "file_extension": ".py",
   "mimetype": "text/x-python",
   "name": "python",
   "nbconvert_exporter": "python",
   "pygments_lexer": "ipython3",
   "version": "3.7.6"
  }
 },
 "nbformat": 4,
 "nbformat_minor": 4
}
