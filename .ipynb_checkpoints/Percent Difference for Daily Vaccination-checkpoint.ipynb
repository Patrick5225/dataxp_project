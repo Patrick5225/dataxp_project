{
 "cells": [
  {
   "cell_type": "code",
   "execution_count": 2,
   "metadata": {},
   "outputs": [],
   "source": [
    "# importing packages\n",
    "import numpy as np\n",
    "import pandas as pd\n",
    "import matplotlib.pyplot as plt\n",
    "import seaborn as sns"
   ]
  },
  {
   "cell_type": "code",
   "execution_count": 3,
   "metadata": {},
   "outputs": [],
   "source": [
    "df = pd.read_csv(\"country_vaccinations.csv\") # using the new and updated vaccine dataset"
   ]
  },
  {
   "cell_type": "code",
   "execution_count": 4,
   "metadata": {},
   "outputs": [
    {
     "data": {
      "text/html": [
       "<div>\n",
       "<style scoped>\n",
       "    .dataframe tbody tr th:only-of-type {\n",
       "        vertical-align: middle;\n",
       "    }\n",
       "\n",
       "    .dataframe tbody tr th {\n",
       "        vertical-align: top;\n",
       "    }\n",
       "\n",
       "    .dataframe thead th {\n",
       "        text-align: right;\n",
       "    }\n",
       "</style>\n",
       "<table border=\"1\" class=\"dataframe\">\n",
       "  <thead>\n",
       "    <tr style=\"text-align: right;\">\n",
       "      <th></th>\n",
       "      <th>country</th>\n",
       "      <th>iso_code</th>\n",
       "      <th>date</th>\n",
       "      <th>total_vaccinations</th>\n",
       "      <th>people_vaccinated</th>\n",
       "      <th>people_fully_vaccinated</th>\n",
       "      <th>daily_vaccinations_raw</th>\n",
       "      <th>daily_vaccinations</th>\n",
       "      <th>total_vaccinations_per_hundred</th>\n",
       "      <th>people_vaccinated_per_hundred</th>\n",
       "      <th>people_fully_vaccinated_per_hundred</th>\n",
       "      <th>daily_vaccinations_per_million</th>\n",
       "      <th>vaccines</th>\n",
       "      <th>source_name</th>\n",
       "      <th>source_website</th>\n",
       "    </tr>\n",
       "  </thead>\n",
       "  <tbody>\n",
       "    <tr>\n",
       "      <th>0</th>\n",
       "      <td>Albania</td>\n",
       "      <td>ALB</td>\n",
       "      <td>2021-01-10</td>\n",
       "      <td>0.0</td>\n",
       "      <td>0.0</td>\n",
       "      <td>NaN</td>\n",
       "      <td>NaN</td>\n",
       "      <td>NaN</td>\n",
       "      <td>0.00</td>\n",
       "      <td>0.00</td>\n",
       "      <td>NaN</td>\n",
       "      <td>NaN</td>\n",
       "      <td>Pfizer/BioNTech</td>\n",
       "      <td>Ministry of Health</td>\n",
       "      <td>https://shendetesia.gov.al/covid19-ministria-e...</td>\n",
       "    </tr>\n",
       "    <tr>\n",
       "      <th>1</th>\n",
       "      <td>Albania</td>\n",
       "      <td>ALB</td>\n",
       "      <td>2021-01-11</td>\n",
       "      <td>NaN</td>\n",
       "      <td>NaN</td>\n",
       "      <td>NaN</td>\n",
       "      <td>NaN</td>\n",
       "      <td>64.0</td>\n",
       "      <td>NaN</td>\n",
       "      <td>NaN</td>\n",
       "      <td>NaN</td>\n",
       "      <td>22.0</td>\n",
       "      <td>Pfizer/BioNTech</td>\n",
       "      <td>Ministry of Health</td>\n",
       "      <td>https://shendetesia.gov.al/covid19-ministria-e...</td>\n",
       "    </tr>\n",
       "    <tr>\n",
       "      <th>2</th>\n",
       "      <td>Albania</td>\n",
       "      <td>ALB</td>\n",
       "      <td>2021-01-12</td>\n",
       "      <td>128.0</td>\n",
       "      <td>128.0</td>\n",
       "      <td>NaN</td>\n",
       "      <td>NaN</td>\n",
       "      <td>64.0</td>\n",
       "      <td>0.00</td>\n",
       "      <td>0.00</td>\n",
       "      <td>NaN</td>\n",
       "      <td>22.0</td>\n",
       "      <td>Pfizer/BioNTech</td>\n",
       "      <td>Ministry of Health</td>\n",
       "      <td>https://shendetesia.gov.al/covid19-ministria-e...</td>\n",
       "    </tr>\n",
       "    <tr>\n",
       "      <th>3</th>\n",
       "      <td>Albania</td>\n",
       "      <td>ALB</td>\n",
       "      <td>2021-01-13</td>\n",
       "      <td>188.0</td>\n",
       "      <td>188.0</td>\n",
       "      <td>NaN</td>\n",
       "      <td>60.0</td>\n",
       "      <td>63.0</td>\n",
       "      <td>0.01</td>\n",
       "      <td>0.01</td>\n",
       "      <td>NaN</td>\n",
       "      <td>22.0</td>\n",
       "      <td>Pfizer/BioNTech</td>\n",
       "      <td>Ministry of Health</td>\n",
       "      <td>https://shendetesia.gov.al/covid19-ministria-e...</td>\n",
       "    </tr>\n",
       "    <tr>\n",
       "      <th>4</th>\n",
       "      <td>Albania</td>\n",
       "      <td>ALB</td>\n",
       "      <td>2021-01-14</td>\n",
       "      <td>266.0</td>\n",
       "      <td>266.0</td>\n",
       "      <td>NaN</td>\n",
       "      <td>78.0</td>\n",
       "      <td>66.0</td>\n",
       "      <td>0.01</td>\n",
       "      <td>0.01</td>\n",
       "      <td>NaN</td>\n",
       "      <td>23.0</td>\n",
       "      <td>Pfizer/BioNTech</td>\n",
       "      <td>Ministry of Health</td>\n",
       "      <td>https://shendetesia.gov.al/covid19-ministria-e...</td>\n",
       "    </tr>\n",
       "  </tbody>\n",
       "</table>\n",
       "</div>"
      ],
      "text/plain": [
       "   country iso_code        date  total_vaccinations  people_vaccinated  \\\n",
       "0  Albania      ALB  2021-01-10                 0.0                0.0   \n",
       "1  Albania      ALB  2021-01-11                 NaN                NaN   \n",
       "2  Albania      ALB  2021-01-12               128.0              128.0   \n",
       "3  Albania      ALB  2021-01-13               188.0              188.0   \n",
       "4  Albania      ALB  2021-01-14               266.0              266.0   \n",
       "\n",
       "   people_fully_vaccinated  daily_vaccinations_raw  daily_vaccinations  \\\n",
       "0                      NaN                     NaN                 NaN   \n",
       "1                      NaN                     NaN                64.0   \n",
       "2                      NaN                     NaN                64.0   \n",
       "3                      NaN                    60.0                63.0   \n",
       "4                      NaN                    78.0                66.0   \n",
       "\n",
       "   total_vaccinations_per_hundred  people_vaccinated_per_hundred  \\\n",
       "0                            0.00                           0.00   \n",
       "1                             NaN                            NaN   \n",
       "2                            0.00                           0.00   \n",
       "3                            0.01                           0.01   \n",
       "4                            0.01                           0.01   \n",
       "\n",
       "   people_fully_vaccinated_per_hundred  daily_vaccinations_per_million  \\\n",
       "0                                  NaN                             NaN   \n",
       "1                                  NaN                            22.0   \n",
       "2                                  NaN                            22.0   \n",
       "3                                  NaN                            22.0   \n",
       "4                                  NaN                            23.0   \n",
       "\n",
       "          vaccines         source_name  \\\n",
       "0  Pfizer/BioNTech  Ministry of Health   \n",
       "1  Pfizer/BioNTech  Ministry of Health   \n",
       "2  Pfizer/BioNTech  Ministry of Health   \n",
       "3  Pfizer/BioNTech  Ministry of Health   \n",
       "4  Pfizer/BioNTech  Ministry of Health   \n",
       "\n",
       "                                      source_website  \n",
       "0  https://shendetesia.gov.al/covid19-ministria-e...  \n",
       "1  https://shendetesia.gov.al/covid19-ministria-e...  \n",
       "2  https://shendetesia.gov.al/covid19-ministria-e...  \n",
       "3  https://shendetesia.gov.al/covid19-ministria-e...  \n",
       "4  https://shendetesia.gov.al/covid19-ministria-e...  "
      ]
     },
     "execution_count": 4,
     "metadata": {},
     "output_type": "execute_result"
    }
   ],
   "source": [
    "df.head() # first 5 rows"
   ]
  },
  {
   "cell_type": "markdown",
   "metadata": {},
   "source": [
    "# Calculating Percent Differences BEFORE Cleaning Daily Vaccinations"
   ]
  },
  {
   "cell_type": "code",
   "execution_count": 5,
   "metadata": {},
   "outputs": [],
   "source": [
    "# create a list of each unique country\n",
    "country_list = list(df['country'].unique())"
   ]
  },
  {
   "cell_type": "code",
   "execution_count": 6,
   "metadata": {},
   "outputs": [],
   "source": [
    "# initialize a dataframe for percent difference of each country\n",
    "percent_df = pd.DataFrame(columns=['country','percent_difference'])\n",
    "\n",
    "\n",
    "for country in country_list:\n",
    "    '''\n",
    "    calculate percent_difference for each country and add to dataframe\n",
    "    '''\n",
    "    \n",
    "    # filter dataframe to country in current loop\n",
    "    country_df = df[df['country'] == country]\n",
    "    \n",
    "    # calculate sum of daily vaccinations and total vaccines\n",
    "    daily_sum = country_df['daily_vaccinations'].sum()\n",
    "    total_vaccines = country_df['total_vaccinations'].max()\n",
    "    \n",
    "    # calculate percent difference\n",
    "    percent_diff = abs(daily_sum - total_vaccines) / total_vaccines\n",
    "    percent_diff = round(percent_diff * 100, 2)\n",
    "    \n",
    "    # add country and calculation of percent difference to dataframe\n",
    "    percent_df = percent_df.append({'country':country,'percent_difference':percent_diff},ignore_index = True)"
   ]
  },
  {
   "cell_type": "code",
   "execution_count": 7,
   "metadata": {},
   "outputs": [
    {
     "data": {
      "text/html": [
       "<div>\n",
       "<style scoped>\n",
       "    .dataframe tbody tr th:only-of-type {\n",
       "        vertical-align: middle;\n",
       "    }\n",
       "\n",
       "    .dataframe tbody tr th {\n",
       "        vertical-align: top;\n",
       "    }\n",
       "\n",
       "    .dataframe thead th {\n",
       "        text-align: right;\n",
       "    }\n",
       "</style>\n",
       "<table border=\"1\" class=\"dataframe\">\n",
       "  <thead>\n",
       "    <tr style=\"text-align: right;\">\n",
       "      <th></th>\n",
       "      <th>country</th>\n",
       "      <th>percent_difference</th>\n",
       "    </tr>\n",
       "  </thead>\n",
       "  <tbody>\n",
       "    <tr>\n",
       "      <th>0</th>\n",
       "      <td>Albania</td>\n",
       "      <td>15.64</td>\n",
       "    </tr>\n",
       "    <tr>\n",
       "      <th>1</th>\n",
       "      <td>Algeria</td>\n",
       "      <td>7.91</td>\n",
       "    </tr>\n",
       "    <tr>\n",
       "      <th>2</th>\n",
       "      <td>Andorra</td>\n",
       "      <td>21.97</td>\n",
       "    </tr>\n",
       "    <tr>\n",
       "      <th>3</th>\n",
       "      <td>Anguilla</td>\n",
       "      <td>3.92</td>\n",
       "    </tr>\n",
       "    <tr>\n",
       "      <th>4</th>\n",
       "      <td>Argentina</td>\n",
       "      <td>13.34</td>\n",
       "    </tr>\n",
       "  </tbody>\n",
       "</table>\n",
       "</div>"
      ],
      "text/plain": [
       "     country  percent_difference\n",
       "0    Albania               15.64\n",
       "1    Algeria                7.91\n",
       "2    Andorra               21.97\n",
       "3   Anguilla                3.92\n",
       "4  Argentina               13.34"
      ]
     },
     "execution_count": 7,
     "metadata": {},
     "output_type": "execute_result"
    }
   ],
   "source": [
    "percent_df.head() # first 5 rows"
   ]
  },
  {
   "cell_type": "code",
   "execution_count": 8,
   "metadata": {},
   "outputs": [
    {
     "data": {
      "image/png": "[encoded data removed]",
      "text/plain": [
       "<Figure size 600x400 with 1 Axes>"
      ]
     },
     "metadata": {
      "needs_background": "light"
     },
     "output_type": "display_data"
    }
   ],
   "source": [
    "# create a boxplot for percent differences\n",
    "plt.figure(figsize=(6,4),dpi=100)\n",
    "plt.title('Percent Difference Between Total Vaccinations\\nand Sum of Daily Vaccinations by Countries')\n",
    "\n",
    "sns.boxplot(data=percent_df,y=\"percent_difference\");"
   ]
  },
  {
   "cell_type": "markdown",
   "metadata": {},
   "source": [
    "**Calculating 5-Number Summary**"
   ]
  },
  {
   "cell_type": "code",
   "execution_count": 9,
   "metadata": {},
   "outputs": [
    {
     "name": "stdout",
     "output_type": "stream",
     "text": [
      "5-Number Summary:\n",
      "Min:\t 0.0\n",
      "Q1:\t 6.49\n",
      "Median:\t 10.98\n",
      "Q3:\t 23.19\n",
      "Max:\t 100.0\n"
     ]
    }
   ],
   "source": [
    "quartiles = np.percentile(percent_df['percent_difference'],[25,50,75]) # obtain q1, q2 (median), q3 \n",
    "df_min, df_max = percent_df['percent_difference'].min(), percent_df['percent_difference'].max() # obtain min and max\n",
    "\n",
    "print('5-Number Summary:')\n",
    "print('Min:\\t',df_min)\n",
    "print('Q1:\\t',quartiles[0])\n",
    "print('Median:\\t',quartiles[1])\n",
    "print('Q3:\\t',quartiles[2])\n",
    "print('Max:\\t',df_max)"
   ]
  },
  {
   "cell_type": "markdown",
   "metadata": {},
   "source": [
    "Compared to Toby's boxplot, this boxplot has a much higher percent difference (median of about 10%) than Toby's boxplot (median of only about 2%). We'll want to get our boxplot to a lower average percent difference."
   ]
  },
  {
   "cell_type": "markdown",
   "metadata": {},
   "source": [
    "# Calculating Percent Differences AFTER Cleaning Daily Vaccinations"
   ]
  },
  {
   "cell_type": "markdown",
   "metadata": {},
   "source": [
    "## Calculating Percent Differences: Replace Missing Values with Mean (by country) of Daily Vaccination"
   ]
  },
  {
   "cell_type": "code",
   "execution_count": 10,
   "metadata": {},
   "outputs": [
    {
     "name": "stderr",
     "output_type": "stream",
     "text": [
      "/opt/anaconda3/lib/python3.7/site-packages/pandas/core/generic.py:5489: SettingWithCopyWarning: \n",
      "A value is trying to be set on a copy of a slice from a DataFrame.\n",
      "Try using .loc[row_indexer,col_indexer] = value instead\n",
      "\n",
      "See the caveats in the documentation: https://pandas.pydata.org/pandas-docs/stable/user_guide/indexing.html#returning-a-view-versus-a-copy\n",
      "  self[name] = value\n"
     ]
    }
   ],
   "source": [
    "# initialize a dataframe for percent difference of each country\n",
    "percent_df = pd.DataFrame(columns=['country','percent_difference'])\n",
    "\n",
    "for country in country_list:\n",
    "    '''\n",
    "    replace missing values of daily vaccines by mean for each country\n",
    "    '''\n",
    "    \n",
    "    # filter dataframe to country in current loop\n",
    "    country_df = df[df['country'] == country]\n",
    "    \n",
    "    # calculate mean value of daily vaccinations\n",
    "    mean_daily = country_df.daily_vaccinations.mean()\n",
    "    \n",
    "    # replace missing value with mean\n",
    "    country_df.daily_vaccinations = country_df.daily_vaccinations.fillna(mean_daily)\n",
    "    \n",
    "    # calculate sum of daily vaccinations and total vaccines\n",
    "    daily_sum = country_df['daily_vaccinations'].sum()\n",
    "    total_vaccines = country_df['total_vaccinations'].max()\n",
    "    \n",
    "    # calculate percent difference\n",
    "    percent_diff = abs(daily_sum - total_vaccines) / total_vaccines\n",
    "    percent_diff = round(percent_diff * 100, 2)\n",
    "    \n",
    "    # add country and calculation of percent difference to dataframe\n",
    "    percent_df = percent_df.append({'country':country,'percent_difference':percent_diff},ignore_index = True)"
   ]
  },
  {
   "cell_type": "code",
   "execution_count": 11,
   "metadata": {},
   "outputs": [
    {
     "data": {
      "image/png": "[encoded data removed]",
      "text/plain": [
       "<Figure size 600x400 with 1 Axes>"
      ]
     },
     "metadata": {
      "needs_background": "light"
     },
     "output_type": "display_data"
    }
   ],
   "source": [
    "# create a boxplot for percent differences\n",
    "plt.figure(figsize=(6,4),dpi=100)\n",
    "plt.title('Percent Difference Between Total Vaccinations\\nand Sum of Daily Vaccinations by Countries')\n",
    "\n",
    "sns.boxplot(data=percent_df,y=\"percent_difference\");"
   ]
  },
  {
   "cell_type": "code",
   "execution_count": 12,
   "metadata": {},
   "outputs": [
    {
     "name": "stdout",
     "output_type": "stream",
     "text": [
      "5-Number Summary:\n",
      "Min:\t 0.57\n",
      "Q1:\t 5.83\n",
      "Median:\t 9.53\n",
      "Q3:\t 21.19\n",
      "Max:\t 100.0\n"
     ]
    }
   ],
   "source": [
    "quartiles = np.percentile(percent_df['percent_difference'],[25,50,75]) # obtain q1, q2 (median), q3 \n",
    "df_min, df_max = percent_df['percent_difference'].min(), percent_df['percent_difference'].max() # obtain min and max\n",
    "\n",
    "print('5-Number Summary:')\n",
    "print('Min:\\t',df_min)\n",
    "print('Q1:\\t',quartiles[0])\n",
    "print('Median:\\t',quartiles[1])\n",
    "print('Q3:\\t',quartiles[2])\n",
    "print('Max:\\t',df_max)"
   ]
  },
  {
   "cell_type": "markdown",
   "metadata": {},
   "source": [
    "Replacing with the mean value doesn't really make a difference."
   ]
  },
  {
   "cell_type": "markdown",
   "metadata": {},
   "source": [
    "## Calculating Percent Differences: Replace Missing Values with Median (by country) of Daily Vaccination"
   ]
  },
  {
   "cell_type": "code",
   "execution_count": 13,
   "metadata": {},
   "outputs": [
    {
     "name": "stderr",
     "output_type": "stream",
     "text": [
      "/opt/anaconda3/lib/python3.7/site-packages/pandas/core/generic.py:5489: SettingWithCopyWarning: \n",
      "A value is trying to be set on a copy of a slice from a DataFrame.\n",
      "Try using .loc[row_indexer,col_indexer] = value instead\n",
      "\n",
      "See the caveats in the documentation: https://pandas.pydata.org/pandas-docs/stable/user_guide/indexing.html#returning-a-view-versus-a-copy\n",
      "  self[name] = value\n"
     ]
    }
   ],
   "source": [
    "# initialize a dataframe for percent difference of each country\n",
    "percent_df = pd.DataFrame(columns=['country','percent_difference'])\n",
    "\n",
    "for country in country_list:\n",
    "    '''\n",
    "    replace missing values of daily vaccines by median for each country\n",
    "    '''\n",
    "    \n",
    "    # filter dataframe to country in current loop\n",
    "    country_df = df[df['country'] == country]\n",
    "    \n",
    "    # calculate mean value of daily vaccinations\n",
    "    median_daily = country_df.daily_vaccinations.median()\n",
    "    \n",
    "    # replace missing value with mean\n",
    "    country_df.daily_vaccinations = country_df.daily_vaccinations.fillna(median_daily)\n",
    "    \n",
    "    # calculate sum of daily vaccinations and total vaccines\n",
    "    daily_sum = country_df['daily_vaccinations'].sum()\n",
    "    total_vaccines = country_df['total_vaccinations'].max()\n",
    "    \n",
    "    # calculate percent difference\n",
    "    percent_diff = abs(daily_sum - total_vaccines) / total_vaccines\n",
    "    percent_diff = round(percent_diff * 100, 2)\n",
    "    \n",
    "    # add country and calculation of percent difference to dataframe\n",
    "    percent_df = percent_df.append({'country':country,'percent_difference':percent_diff},ignore_index = True)"
   ]
  },
  {
   "cell_type": "code",
   "execution_count": 14,
   "metadata": {},
   "outputs": [
    {
     "data": {
      "image/png": "[encoded data removed]",
      "text/plain": [
       "<Figure size 600x400 with 1 Axes>"
      ]
     },
     "metadata": {
      "needs_background": "light"
     },
     "output_type": "display_data"
    }
   ],
   "source": [
    "# create a boxplot for percent differences\n",
    "plt.figure(figsize=(6,4),dpi=100)\n",
    "plt.title('Percent Difference Between Total Vaccinations\\nand Sum of Daily Vaccinations by Countries')\n",
    "\n",
    "sns.boxplot(data=percent_df,y=\"percent_difference\");"
   ]
  },
  {
   "cell_type": "code",
   "execution_count": 15,
   "metadata": {},
   "outputs": [
    {
     "name": "stdout",
     "output_type": "stream",
     "text": [
      "5-Number Summary:\n",
      "Min:\t 0.55\n",
      "Q1:\t 5.7\n",
      "Median:\t 10.45\n",
      "Q3:\t 21.7\n",
      "Max:\t 100.0\n"
     ]
    }
   ],
   "source": [
    "quartiles = np.percentile(percent_df['percent_difference'],[25,50,75]) # obtain q1, q2 (median), q3 \n",
    "df_min, df_max = percent_df['percent_difference'].min(), percent_df['percent_difference'].max() # obtain min and max\n",
    "\n",
    "print('5-Number Summary:')\n",
    "print('Min:\\t',df_min)\n",
    "print('Q1:\\t',quartiles[0])\n",
    "print('Median:\\t',quartiles[1])\n",
    "print('Q3:\\t',quartiles[2])\n",
    "print('Max:\\t',df_max)"
   ]
  },
  {
   "cell_type": "markdown",
   "metadata": {},
   "source": [
    "Replacing with median still doesn't make a difference (actually slightly worse than using the mean)"
   ]
  },
  {
   "cell_type": "markdown",
   "metadata": {},
   "source": [
    "# Looking at r and r^2"
   ]
  },
  {
   "cell_type": "markdown",
   "metadata": {},
   "source": [
    "Haven't decided on how to clean daily vaccines. Linear Regression is an option but don't know if it will work best.\n",
    "\n",
    "Below, I look at a time graph of daily vaccinations for Albania."
   ]
  },
  {
   "cell_type": "code",
   "execution_count": 16,
   "metadata": {},
   "outputs": [],
   "source": [
    "country_df = df[df['country'] == 'Andorra'] # filter dataframe to the country of Alabania"
   ]
  },
  {
   "cell_type": "code",
   "execution_count": 17,
   "metadata": {},
   "outputs": [],
   "source": [
    "date_df = country_df[['date','daily_vaccinations']].sort_values('date',ascending=True) # sort by ascending date"
   ]
  },
  {
   "cell_type": "code",
   "execution_count": 18,
   "metadata": {},
   "outputs": [
    {
     "data": {
      "text/html": [
       "<div>\n",
       "<style scoped>\n",
       "    .dataframe tbody tr th:only-of-type {\n",
       "        vertical-align: middle;\n",
       "    }\n",
       "\n",
       "    .dataframe tbody tr th {\n",
       "        vertical-align: top;\n",
       "    }\n",
       "\n",
       "    .dataframe thead th {\n",
       "        text-align: right;\n",
       "    }\n",
       "</style>\n",
       "<table border=\"1\" class=\"dataframe\">\n",
       "  <thead>\n",
       "    <tr style=\"text-align: right;\">\n",
       "      <th></th>\n",
       "      <th>date</th>\n",
       "      <th>daily_vaccinations</th>\n",
       "    </tr>\n",
       "  </thead>\n",
       "  <tbody>\n",
       "    <tr>\n",
       "      <th>75</th>\n",
       "      <td>2021-01-25</td>\n",
       "      <td>NaN</td>\n",
       "    </tr>\n",
       "    <tr>\n",
       "      <th>76</th>\n",
       "      <td>2021-01-26</td>\n",
       "      <td>66.0</td>\n",
       "    </tr>\n",
       "    <tr>\n",
       "      <th>77</th>\n",
       "      <td>2021-01-27</td>\n",
       "      <td>66.0</td>\n",
       "    </tr>\n",
       "    <tr>\n",
       "      <th>78</th>\n",
       "      <td>2021-01-28</td>\n",
       "      <td>66.0</td>\n",
       "    </tr>\n",
       "    <tr>\n",
       "      <th>79</th>\n",
       "      <td>2021-01-29</td>\n",
       "      <td>66.0</td>\n",
       "    </tr>\n",
       "  </tbody>\n",
       "</table>\n",
       "</div>"
      ],
      "text/plain": [
       "          date  daily_vaccinations\n",
       "75  2021-01-25                 NaN\n",
       "76  2021-01-26                66.0\n",
       "77  2021-01-27                66.0\n",
       "78  2021-01-28                66.0\n",
       "79  2021-01-29                66.0"
      ]
     },
     "execution_count": 18,
     "metadata": {},
     "output_type": "execute_result"
    }
   ],
   "source": [
    "date_df.head() # first 5 rows"
   ]
  },
  {
   "cell_type": "code",
   "execution_count": 19,
   "metadata": {},
   "outputs": [],
   "source": [
    "date_df[\"date\"] = pd.to_numeric(date_df[\"date\"].str.replace('-',''))"
   ]
  },
  {
   "cell_type": "code",
   "execution_count": 20,
   "metadata": {},
   "outputs": [],
   "source": [
    "date_df = date_df.dropna()"
   ]
  },
  {
   "cell_type": "code",
   "execution_count": 21,
   "metadata": {},
   "outputs": [
    {
     "data": {
      "image/png": "[encoded data removed]",
      "text/plain": [
       "<Figure size 432x288 with 1 Axes>"
      ]
     },
     "metadata": {
      "needs_background": "light"
     },
     "output_type": "display_data"
    }
   ],
   "source": [
    "# plot line graph of daily vaccinations for Alabania\n",
    "sns.lineplot(data=date_df,x='date',y='daily_vaccinations')\n",
    "plt.ticklabel_format(style='plain',axis='y')"
   ]
  },
  {
   "cell_type": "code",
   "execution_count": 22,
   "metadata": {},
   "outputs": [
    {
     "data": {
      "text/plain": [
       "<AxesSubplot:xlabel='date', ylabel='daily_vaccinations'>"
      ]
     },
     "execution_count": 22,
     "metadata": {},
     "output_type": "execute_result"
    },
    {
     "data": {
      "image/png": "[encoded data removed]",
      "text/plain": [
       "<Figure size 432x288 with 1 Axes>"
      ]
     },
     "metadata": {
      "needs_background": "light"
     },
     "output_type": "display_data"
    }
   ],
   "source": [
    "sns.scatterplot(data=date_df,x='date',y='daily_vaccinations')"
   ]
  },
  {
   "cell_type": "code",
   "execution_count": 23,
   "metadata": {},
   "outputs": [
    {
     "data": {
      "text/plain": [
       "<AxesSubplot:xlabel='date', ylabel='daily_vaccinations'>"
      ]
     },
     "execution_count": 23,
     "metadata": {},
     "output_type": "execute_result"
    },
    {
     "data": {
      "image/png": "[encoded data removed]",
      "text/plain": [
       "<Figure size 432x288 with 1 Axes>"
      ]
     },
     "metadata": {
      "needs_background": "light"
     },
     "output_type": "display_data"
    }
   ],
   "source": [
    "sns.regplot(data=date_df,x='date',y='daily_vaccinations')"
   ]
  },
  {
   "cell_type": "markdown",
   "metadata": {},
   "source": [
    "# Calculating R and R^2 for each Country"
   ]
  },
  {
   "cell_type": "markdown",
   "metadata": {},
   "source": [
    "Let's look at the coefficient of determinations for Alabania first, then expand to every country."
   ]
  },
  {
   "cell_type": "code",
   "execution_count": 24,
   "metadata": {},
   "outputs": [],
   "source": [
    "from sklearn.metrics import r2_score\n",
    "from scipy import stats\n",
    "from scipy.stats.stats import pearsonr"
   ]
  },
  {
   "cell_type": "code",
   "execution_count": 25,
   "metadata": {},
   "outputs": [
    {
     "data": {
      "text/plain": [
       "-0.04008001661920501"
      ]
     },
     "execution_count": 25,
     "metadata": {},
     "output_type": "execute_result"
    }
   ],
   "source": [
    "# correlation value r for Alabania\n",
    "pearsonr(date_df['date'],date_df['daily_vaccinations'])[0]"
   ]
  },
  {
   "cell_type": "code",
   "execution_count": 26,
   "metadata": {},
   "outputs": [
    {
     "data": {
      "text/plain": [
       "0.4490981655441357"
      ]
     },
     "execution_count": 26,
     "metadata": {},
     "output_type": "execute_result"
    }
   ],
   "source": [
    "# r^2 value for Alabania\n",
    "0.6701478684172141 ** 2"
   ]
  },
  {
   "cell_type": "markdown",
   "metadata": {},
   "source": [
    "**Calculating correlation coefficient r**"
   ]
  },
  {
   "cell_type": "code",
   "execution_count": 27,
   "metadata": {},
   "outputs": [],
   "source": [
    "# ignore warnings (warning for missing values in for loop below)\n",
    "import warnings\n",
    "warnings.filterwarnings('ignore')"
   ]
  },
  {
   "cell_type": "code",
   "execution_count": 28,
   "metadata": {},
   "outputs": [],
   "source": [
    "# initialize list for r coefficients\n",
    "r_coeff_list = []\n",
    "\n",
    "for country in country_list:\n",
    "    '''\n",
    "    calculate correlation coefficient r for each country\n",
    "    '''\n",
    "    \n",
    "    # filter dataframe to country in current loop\n",
    "    country_df = df[df['country'] == country]   \n",
    "    \n",
    "    # select only date and daily_vaccinations columns\n",
    "    date_df = country_df[['date','daily_vaccinations']].sort_values('date',ascending=True) # sort by ascending date\n",
    "    \n",
    "    # convert date values to numeric\n",
    "    date_df[\"date\"] = pd.to_numeric(date_df[\"date\"].str.replace('-',''))\n",
    "    \n",
    "    # drop any na values in the daily_vaccinations field\n",
    "    date_df = date_df.dropna()\n",
    "    \n",
    "    # check if there are no daily_vaccinations data available\n",
    "    if len(date_df['daily_vaccinations']) == 0:\n",
    "        r_coeff_list.append('no_daily')\n",
    "        continue\n",
    "    \n",
    "    # append data to dataframe\n",
    "    r_coeff_list.append(pearsonr(date_df['date'],date_df['daily_vaccinations'])[0])"
   ]
  },
  {
   "cell_type": "code",
   "execution_count": 29,
   "metadata": {},
   "outputs": [],
   "source": [
    "# create a dataframe containing r_coefficient for each country\n",
    "d = {'country': country_list, 'r_coefficient': r_coeff_list}\n",
    "r_df = pd.DataFrame(data=d)"
   ]
  },
  {
   "cell_type": "code",
   "execution_count": 30,
   "metadata": {},
   "outputs": [
    {
     "data": {
      "text/html": [
       "<div>\n",
       "<style scoped>\n",
       "    .dataframe tbody tr th:only-of-type {\n",
       "        vertical-align: middle;\n",
       "    }\n",
       "\n",
       "    .dataframe tbody tr th {\n",
       "        vertical-align: top;\n",
       "    }\n",
       "\n",
       "    .dataframe thead th {\n",
       "        text-align: right;\n",
       "    }\n",
       "</style>\n",
       "<table border=\"1\" class=\"dataframe\">\n",
       "  <thead>\n",
       "    <tr style=\"text-align: right;\">\n",
       "      <th></th>\n",
       "      <th>country</th>\n",
       "      <th>r_coefficient</th>\n",
       "    </tr>\n",
       "  </thead>\n",
       "  <tbody>\n",
       "    <tr>\n",
       "      <th>0</th>\n",
       "      <td>Albania</td>\n",
       "      <td>0.670148</td>\n",
       "    </tr>\n",
       "    <tr>\n",
       "      <th>1</th>\n",
       "      <td>Algeria</td>\n",
       "      <td>0.902776</td>\n",
       "    </tr>\n",
       "    <tr>\n",
       "      <th>2</th>\n",
       "      <td>Andorra</td>\n",
       "      <td>-0.040080</td>\n",
       "    </tr>\n",
       "    <tr>\n",
       "      <th>3</th>\n",
       "      <td>Anguilla</td>\n",
       "      <td>-0.084690</td>\n",
       "    </tr>\n",
       "    <tr>\n",
       "      <th>4</th>\n",
       "      <td>Argentina</td>\n",
       "      <td>0.059406</td>\n",
       "    </tr>\n",
       "  </tbody>\n",
       "</table>\n",
       "</div>"
      ],
      "text/plain": [
       "     country r_coefficient\n",
       "0    Albania      0.670148\n",
       "1    Algeria      0.902776\n",
       "2    Andorra     -0.040080\n",
       "3   Anguilla     -0.084690\n",
       "4  Argentina      0.059406"
      ]
     },
     "execution_count": 30,
     "metadata": {},
     "output_type": "execute_result"
    }
   ],
   "source": [
    "r_df.head() # first 5 rows"
   ]
  },
  {
   "cell_type": "code",
   "execution_count": 31,
   "metadata": {},
   "outputs": [
    {
     "name": "stdout",
     "output_type": "stream",
     "text": [
      "Countries with no daily vaccinations data: 2\n",
      "Countries with missing data: 10\n"
     ]
    }
   ],
   "source": [
    "print(\"Countries with no daily vaccinations data:\",(r_df.r_coefficient == \"no_daily\").sum())\n",
    "print(\"Countries with missing data:\", r_df.r_coefficient.isna().sum())"
   ]
  },
  {
   "cell_type": "code",
   "execution_count": 32,
   "metadata": {},
   "outputs": [
    {
     "data": {
      "text/html": [
       "<div>\n",
       "<style scoped>\n",
       "    .dataframe tbody tr th:only-of-type {\n",
       "        vertical-align: middle;\n",
       "    }\n",
       "\n",
       "    .dataframe tbody tr th {\n",
       "        vertical-align: top;\n",
       "    }\n",
       "\n",
       "    .dataframe thead th {\n",
       "        text-align: right;\n",
       "    }\n",
       "</style>\n",
       "<table border=\"1\" class=\"dataframe\">\n",
       "  <thead>\n",
       "    <tr style=\"text-align: right;\">\n",
       "      <th></th>\n",
       "      <th>country</th>\n",
       "      <th>r_coefficient</th>\n",
       "    </tr>\n",
       "  </thead>\n",
       "  <tbody>\n",
       "    <tr>\n",
       "      <th>46</th>\n",
       "      <td>Honduras</td>\n",
       "      <td>no_daily</td>\n",
       "    </tr>\n",
       "    <tr>\n",
       "      <th>97</th>\n",
       "      <td>Saint Helena</td>\n",
       "      <td>no_daily</td>\n",
       "    </tr>\n",
       "  </tbody>\n",
       "</table>\n",
       "</div>"
      ],
      "text/plain": [
       "         country r_coefficient\n",
       "46      Honduras      no_daily\n",
       "97  Saint Helena      no_daily"
      ]
     },
     "execution_count": 32,
     "metadata": {},
     "output_type": "execute_result"
    }
   ],
   "source": [
    "# countries that have no data available for daily vaccinations\n",
    "r_df[r_df['r_coefficient'] == \"no_daily\"]"
   ]
  },
  {
   "cell_type": "code",
   "execution_count": 33,
   "metadata": {},
   "outputs": [
    {
     "data": {
      "text/html": [
       "<div>\n",
       "<style scoped>\n",
       "    .dataframe tbody tr th:only-of-type {\n",
       "        vertical-align: middle;\n",
       "    }\n",
       "\n",
       "    .dataframe tbody tr th {\n",
       "        vertical-align: top;\n",
       "    }\n",
       "\n",
       "    .dataframe thead th {\n",
       "        text-align: right;\n",
       "    }\n",
       "</style>\n",
       "<table border=\"1\" class=\"dataframe\">\n",
       "  <thead>\n",
       "    <tr style=\"text-align: right;\">\n",
       "      <th></th>\n",
       "      <th>country</th>\n",
       "      <th>r_coefficient</th>\n",
       "    </tr>\n",
       "  </thead>\n",
       "  <tbody>\n",
       "    <tr>\n",
       "      <th>11</th>\n",
       "      <td>Belarus</td>\n",
       "      <td>NaN</td>\n",
       "    </tr>\n",
       "    <tr>\n",
       "      <th>31</th>\n",
       "      <td>Egypt</td>\n",
       "      <td>NaN</td>\n",
       "    </tr>\n",
       "    <tr>\n",
       "      <th>42</th>\n",
       "      <td>Greenland</td>\n",
       "      <td>NaN</td>\n",
       "    </tr>\n",
       "    <tr>\n",
       "      <th>73</th>\n",
       "      <td>Monaco</td>\n",
       "      <td>NaN</td>\n",
       "    </tr>\n",
       "    <tr>\n",
       "      <th>74</th>\n",
       "      <td>Mongolia</td>\n",
       "      <td>NaN</td>\n",
       "    </tr>\n",
       "    <tr>\n",
       "      <th>76</th>\n",
       "      <td>Montserrat</td>\n",
       "      <td>NaN</td>\n",
       "    </tr>\n",
       "    <tr>\n",
       "      <th>88</th>\n",
       "      <td>Paraguay</td>\n",
       "      <td>NaN</td>\n",
       "    </tr>\n",
       "    <tr>\n",
       "      <th>90</th>\n",
       "      <td>Philippines</td>\n",
       "      <td>NaN</td>\n",
       "    </tr>\n",
       "    <tr>\n",
       "      <th>114</th>\n",
       "      <td>Trinidad and Tobago</td>\n",
       "      <td>NaN</td>\n",
       "    </tr>\n",
       "    <tr>\n",
       "      <th>116</th>\n",
       "      <td>Turks and Caicos Islands</td>\n",
       "      <td>NaN</td>\n",
       "    </tr>\n",
       "  </tbody>\n",
       "</table>\n",
       "</div>"
      ],
      "text/plain": [
       "                      country r_coefficient\n",
       "11                    Belarus           NaN\n",
       "31                      Egypt           NaN\n",
       "42                  Greenland           NaN\n",
       "73                     Monaco           NaN\n",
       "74                   Mongolia           NaN\n",
       "76                 Montserrat           NaN\n",
       "88                   Paraguay           NaN\n",
       "90                Philippines           NaN\n",
       "114       Trinidad and Tobago           NaN\n",
       "116  Turks and Caicos Islands           NaN"
      ]
     },
     "execution_count": 33,
     "metadata": {},
     "output_type": "execute_result"
    }
   ],
   "source": [
    "# countries with missing r_coefficient values.\n",
    "# The r_coefficients are missing because there are only 2 total_vaccination data available \n",
    "# for a particular country (data for total_vaccinations are on the first day, and on the last day)\n",
    "r_df[r_df['r_coefficient'].isnull()]"
   ]
  },
  {
   "cell_type": "markdown",
   "metadata": {},
   "source": [
    "For easier manipulation with r_df, I'll replace \"no_daily\" values with nan."
   ]
  },
  {
   "cell_type": "code",
   "execution_count": 34,
   "metadata": {},
   "outputs": [],
   "source": [
    "# replacing \"no_daily\" with nan\n",
    "r_df['r_coefficient'] = r_df['r_coefficient'].replace(\"no_daily\",np.nan)"
   ]
  },
  {
   "cell_type": "code",
   "execution_count": 35,
   "metadata": {},
   "outputs": [],
   "source": [
    "# add column for r^2\n",
    "r_df['r_squared'] = r_df['r_coefficient'] ** 2"
   ]
  },
  {
   "cell_type": "code",
   "execution_count": 36,
   "metadata": {},
   "outputs": [
    {
     "data": {
      "text/html": [
       "<div>\n",
       "<style scoped>\n",
       "    .dataframe tbody tr th:only-of-type {\n",
       "        vertical-align: middle;\n",
       "    }\n",
       "\n",
       "    .dataframe tbody tr th {\n",
       "        vertical-align: top;\n",
       "    }\n",
       "\n",
       "    .dataframe thead th {\n",
       "        text-align: right;\n",
       "    }\n",
       "</style>\n",
       "<table border=\"1\" class=\"dataframe\">\n",
       "  <thead>\n",
       "    <tr style=\"text-align: right;\">\n",
       "      <th></th>\n",
       "      <th>country</th>\n",
       "      <th>r_coefficient</th>\n",
       "      <th>r_squared</th>\n",
       "    </tr>\n",
       "  </thead>\n",
       "  <tbody>\n",
       "    <tr>\n",
       "      <th>0</th>\n",
       "      <td>Albania</td>\n",
       "      <td>0.670148</td>\n",
       "      <td>0.449098</td>\n",
       "    </tr>\n",
       "    <tr>\n",
       "      <th>1</th>\n",
       "      <td>Algeria</td>\n",
       "      <td>0.902776</td>\n",
       "      <td>0.815005</td>\n",
       "    </tr>\n",
       "    <tr>\n",
       "      <th>2</th>\n",
       "      <td>Andorra</td>\n",
       "      <td>-0.040080</td>\n",
       "      <td>0.001606</td>\n",
       "    </tr>\n",
       "    <tr>\n",
       "      <th>3</th>\n",
       "      <td>Anguilla</td>\n",
       "      <td>-0.084690</td>\n",
       "      <td>0.007172</td>\n",
       "    </tr>\n",
       "    <tr>\n",
       "      <th>4</th>\n",
       "      <td>Argentina</td>\n",
       "      <td>0.059406</td>\n",
       "      <td>0.003529</td>\n",
       "    </tr>\n",
       "  </tbody>\n",
       "</table>\n",
       "</div>"
      ],
      "text/plain": [
       "     country  r_coefficient  r_squared\n",
       "0    Albania       0.670148   0.449098\n",
       "1    Algeria       0.902776   0.815005\n",
       "2    Andorra      -0.040080   0.001606\n",
       "3   Anguilla      -0.084690   0.007172\n",
       "4  Argentina       0.059406   0.003529"
      ]
     },
     "execution_count": 36,
     "metadata": {},
     "output_type": "execute_result"
    }
   ],
   "source": [
    "r_df.head() # first 5 rows"
   ]
  },
  {
   "cell_type": "code",
   "execution_count": 37,
   "metadata": {},
   "outputs": [],
   "source": [
    "# calculating proportion of countries within certain intervals\n",
    "interval_one = ((r_df.r_squared > 0) & (r_df.r_squared <= 0.01)).sum() / 125\n",
    "interval_two = ((r_df.r_squared > 0.01) & (r_df.r_squared <= 0.7)).sum() / 125\n",
    "interval_three = ((r_df.r_squared > 0.7) & (r_df.r_squared <= 0.8)).sum() / 125\n",
    "interval_four = ((r_df.r_squared > 0.8) & (r_df.r_squared <= 0.9)).sum() / 125\n",
    "interval_five = ((r_df.r_squared > 0.9) & (r_df.r_squared <= 1.0)).sum() / 125"
   ]
  },
  {
   "cell_type": "code",
   "execution_count": 38,
   "metadata": {},
   "outputs": [
    {
     "name": "stdout",
     "output_type": "stream",
     "text": [
      "Not enough data:\t 0.096\n",
      "\t(0,0.01]:\t 0.048\n",
      "\t(0.01,0.7]:\t 0.648\n",
      "\t(0.7,0.8]:\t 0.104\n",
      "\t(0.8,0.9]:\t 0.088\n",
      "\t(0.9,1.0]:\t 0.016\n"
     ]
    }
   ],
   "source": [
    "# print proportion of r^2 values in a certain interval\n",
    "print('Not enough data:\\t',(r_df.r_coefficient.isna().sum() / 125))\n",
    "print('\\t(0,0.01]:\\t', interval_one)\n",
    "print('\\t(0.01,0.7]:\\t', interval_two)\n",
    "print('\\t(0.7,0.8]:\\t', interval_three)\n",
    "print('\\t(0.8,0.9]:\\t', interval_four)\n",
    "print('\\t(0.9,1.0]:\\t', interval_five)"
   ]
  },
  {
   "cell_type": "code",
   "execution_count": 39,
   "metadata": {},
   "outputs": [
    {
     "data": {
      "text/html": [
       "<div>\n",
       "<style scoped>\n",
       "    .dataframe tbody tr th:only-of-type {\n",
       "        vertical-align: middle;\n",
       "    }\n",
       "\n",
       "    .dataframe tbody tr th {\n",
       "        vertical-align: top;\n",
       "    }\n",
       "\n",
       "    .dataframe thead th {\n",
       "        text-align: right;\n",
       "    }\n",
       "</style>\n",
       "<table border=\"1\" class=\"dataframe\">\n",
       "  <thead>\n",
       "    <tr style=\"text-align: right;\">\n",
       "      <th></th>\n",
       "      <th>country</th>\n",
       "      <th>r_coefficient</th>\n",
       "      <th>r_squared</th>\n",
       "    </tr>\n",
       "  </thead>\n",
       "  <tbody>\n",
       "    <tr>\n",
       "      <th>0</th>\n",
       "      <td>Albania</td>\n",
       "      <td>0.670148</td>\n",
       "      <td>0.449098</td>\n",
       "    </tr>\n",
       "    <tr>\n",
       "      <th>1</th>\n",
       "      <td>Algeria</td>\n",
       "      <td>0.902776</td>\n",
       "      <td>0.815005</td>\n",
       "    </tr>\n",
       "    <tr>\n",
       "      <th>2</th>\n",
       "      <td>Andorra</td>\n",
       "      <td>-0.040080</td>\n",
       "      <td>0.001606</td>\n",
       "    </tr>\n",
       "    <tr>\n",
       "      <th>3</th>\n",
       "      <td>Anguilla</td>\n",
       "      <td>-0.084690</td>\n",
       "      <td>0.007172</td>\n",
       "    </tr>\n",
       "    <tr>\n",
       "      <th>4</th>\n",
       "      <td>Argentina</td>\n",
       "      <td>0.059406</td>\n",
       "      <td>0.003529</td>\n",
       "    </tr>\n",
       "    <tr>\n",
       "      <th>...</th>\n",
       "      <td>...</td>\n",
       "      <td>...</td>\n",
       "      <td>...</td>\n",
       "    </tr>\n",
       "    <tr>\n",
       "      <th>120</th>\n",
       "      <td>United States</td>\n",
       "      <td>0.625515</td>\n",
       "      <td>0.391270</td>\n",
       "    </tr>\n",
       "    <tr>\n",
       "      <th>121</th>\n",
       "      <td>Uruguay</td>\n",
       "      <td>0.581179</td>\n",
       "      <td>0.337769</td>\n",
       "    </tr>\n",
       "    <tr>\n",
       "      <th>122</th>\n",
       "      <td>Venezuela</td>\n",
       "      <td>0.817129</td>\n",
       "      <td>0.667700</td>\n",
       "    </tr>\n",
       "    <tr>\n",
       "      <th>123</th>\n",
       "      <td>Wales</td>\n",
       "      <td>0.647447</td>\n",
       "      <td>0.419188</td>\n",
       "    </tr>\n",
       "    <tr>\n",
       "      <th>124</th>\n",
       "      <td>Zimbabwe</td>\n",
       "      <td>0.802705</td>\n",
       "      <td>0.644335</td>\n",
       "    </tr>\n",
       "  </tbody>\n",
       "</table>\n",
       "<p>125 rows × 3 columns</p>\n",
       "</div>"
      ],
      "text/plain": [
       "           country  r_coefficient  r_squared\n",
       "0          Albania       0.670148   0.449098\n",
       "1          Algeria       0.902776   0.815005\n",
       "2          Andorra      -0.040080   0.001606\n",
       "3         Anguilla      -0.084690   0.007172\n",
       "4        Argentina       0.059406   0.003529\n",
       "..             ...            ...        ...\n",
       "120  United States       0.625515   0.391270\n",
       "121        Uruguay       0.581179   0.337769\n",
       "122      Venezuela       0.817129   0.667700\n",
       "123          Wales       0.647447   0.419188\n",
       "124       Zimbabwe       0.802705   0.644335\n",
       "\n",
       "[125 rows x 3 columns]"
      ]
     },
     "execution_count": 39,
     "metadata": {},
     "output_type": "execute_result"
    }
   ],
   "source": [
    "r_df"
   ]
  },
  {
   "cell_type": "code",
   "execution_count": 40,
   "metadata": {},
   "outputs": [
    {
     "data": {
      "text/html": [
       "<div>\n",
       "<style scoped>\n",
       "    .dataframe tbody tr th:only-of-type {\n",
       "        vertical-align: middle;\n",
       "    }\n",
       "\n",
       "    .dataframe tbody tr th {\n",
       "        vertical-align: top;\n",
       "    }\n",
       "\n",
       "    .dataframe thead th {\n",
       "        text-align: right;\n",
       "    }\n",
       "</style>\n",
       "<table border=\"1\" class=\"dataframe\">\n",
       "  <thead>\n",
       "    <tr style=\"text-align: right;\">\n",
       "      <th></th>\n",
       "      <th>country</th>\n",
       "      <th>r_coefficient</th>\n",
       "      <th>r_squared</th>\n",
       "    </tr>\n",
       "  </thead>\n",
       "  <tbody>\n",
       "    <tr>\n",
       "      <th>19</th>\n",
       "      <td>Canada</td>\n",
       "      <td>0.640876</td>\n",
       "      <td>0.410722</td>\n",
       "    </tr>\n",
       "  </tbody>\n",
       "</table>\n",
       "</div>"
      ],
      "text/plain": [
       "   country  r_coefficient  r_squared\n",
       "19  Canada       0.640876   0.410722"
      ]
     },
     "execution_count": 40,
     "metadata": {},
     "output_type": "execute_result"
    }
   ],
   "source": [
    "r_df[r_df['country'] == 'Canada']"
   ]
  },
  {
   "cell_type": "code",
   "execution_count": 56,
   "metadata": {},
   "outputs": [],
   "source": [
    "# initialize list for r coefficients\n",
    "r_coeff_list = []\n",
    "\n",
    "for country in country_list:\n",
    "    '''\n",
    "    calculate correlation coefficient r for each country\n",
    "    '''\n",
    "    \n",
    "    # filter dataframe to country in current loop\n",
    "    country_df = df[df['country'] == country]   \n",
    "    \n",
    "    # select only date and daily_vaccinations columns\n",
    "    date_df = country_df[['date','daily_vaccinations']].sort_values('date',ascending=True) # sort by ascending date\n",
    "    \n",
    "    date_df[\"date\"] = pd.to_datetime(date_df[\"date\"])\n",
    "    \n",
    "    # convert date values to numeric\n",
    "    date_df[\"date\"] = pd.to_numeric(date_df[\"date\"])\n",
    "    \n",
    "    # drop any na values in the daily_vaccinations field\n",
    "    date_df = date_df.dropna()\n",
    "    \n",
    "    # check if there are no daily_vaccinations data available\n",
    "    if len(date_df['daily_vaccinations']) == 0:\n",
    "        r_coeff_list.append('no_daily')\n",
    "        continue\n",
    "    \n",
    "    # append data to dataframe\n",
    "    r_coeff_list.append(pearsonr(date_df['date'],date_df['daily_vaccinations'])[0])"
   ]
  },
  {
   "cell_type": "code",
   "execution_count": 58,
   "metadata": {},
   "outputs": [],
   "source": [
    "# create a dataframe containing r_coefficient for each country\n",
    "d = {'country': country_list, 'r_coefficient': r_coeff_list}\n",
    "r_df = pd.DataFrame(data=d)"
   ]
  },
  {
   "cell_type": "code",
   "execution_count": 59,
   "metadata": {},
   "outputs": [
    {
     "data": {
      "text/html": [
       "<div>\n",
       "<style scoped>\n",
       "    .dataframe tbody tr th:only-of-type {\n",
       "        vertical-align: middle;\n",
       "    }\n",
       "\n",
       "    .dataframe tbody tr th {\n",
       "        vertical-align: top;\n",
       "    }\n",
       "\n",
       "    .dataframe thead th {\n",
       "        text-align: right;\n",
       "    }\n",
       "</style>\n",
       "<table border=\"1\" class=\"dataframe\">\n",
       "  <thead>\n",
       "    <tr style=\"text-align: right;\">\n",
       "      <th></th>\n",
       "      <th>country</th>\n",
       "      <th>r_coefficient</th>\n",
       "    </tr>\n",
       "  </thead>\n",
       "  <tbody>\n",
       "    <tr>\n",
       "      <th>0</th>\n",
       "      <td>Albania</td>\n",
       "      <td>0.762193</td>\n",
       "    </tr>\n",
       "    <tr>\n",
       "      <th>1</th>\n",
       "      <td>Algeria</td>\n",
       "      <td>0.710389</td>\n",
       "    </tr>\n",
       "    <tr>\n",
       "      <th>2</th>\n",
       "      <td>Andorra</td>\n",
       "      <td>0.198270</td>\n",
       "    </tr>\n",
       "    <tr>\n",
       "      <th>3</th>\n",
       "      <td>Anguilla</td>\n",
       "      <td>-0.084690</td>\n",
       "    </tr>\n",
       "    <tr>\n",
       "      <th>4</th>\n",
       "      <td>Argentina</td>\n",
       "      <td>0.667539</td>\n",
       "    </tr>\n",
       "    <tr>\n",
       "      <th>...</th>\n",
       "      <td>...</td>\n",
       "      <td>...</td>\n",
       "    </tr>\n",
       "    <tr>\n",
       "      <th>120</th>\n",
       "      <td>United States</td>\n",
       "      <td>0.975363</td>\n",
       "    </tr>\n",
       "    <tr>\n",
       "      <th>121</th>\n",
       "      <td>Uruguay</td>\n",
       "      <td>0.768165</td>\n",
       "    </tr>\n",
       "    <tr>\n",
       "      <th>122</th>\n",
       "      <td>Venezuela</td>\n",
       "      <td>0.966434</td>\n",
       "    </tr>\n",
       "    <tr>\n",
       "      <th>123</th>\n",
       "      <td>Wales</td>\n",
       "      <td>0.840254</td>\n",
       "    </tr>\n",
       "    <tr>\n",
       "      <th>124</th>\n",
       "      <td>Zimbabwe</td>\n",
       "      <td>0.918704</td>\n",
       "    </tr>\n",
       "  </tbody>\n",
       "</table>\n",
       "<p>125 rows × 2 columns</p>\n",
       "</div>"
      ],
      "text/plain": [
       "           country r_coefficient\n",
       "0          Albania      0.762193\n",
       "1          Algeria      0.710389\n",
       "2          Andorra      0.198270\n",
       "3         Anguilla     -0.084690\n",
       "4        Argentina      0.667539\n",
       "..             ...           ...\n",
       "120  United States      0.975363\n",
       "121        Uruguay      0.768165\n",
       "122      Venezuela      0.966434\n",
       "123          Wales      0.840254\n",
       "124       Zimbabwe      0.918704\n",
       "\n",
       "[125 rows x 2 columns]"
      ]
     },
     "execution_count": 59,
     "metadata": {},
     "output_type": "execute_result"
    }
   ],
   "source": [
    "r_df"
   ]
  },
  {
   "cell_type": "code",
   "execution_count": 60,
   "metadata": {},
   "outputs": [
    {
     "name": "stdout",
     "output_type": "stream",
     "text": [
      "Countries with no daily vaccinations data: 2\n",
      "Countries with missing data: 10\n"
     ]
    }
   ],
   "source": [
    "print(\"Countries with no daily vaccinations data:\",(r_df.r_coefficient == \"no_daily\").sum())\n",
    "print(\"Countries with missing data:\", r_df.r_coefficient.isna().sum())"
   ]
  },
  {
   "cell_type": "code",
   "execution_count": 61,
   "metadata": {},
   "outputs": [
    {
     "data": {
      "text/html": [
       "<div>\n",
       "<style scoped>\n",
       "    .dataframe tbody tr th:only-of-type {\n",
       "        vertical-align: middle;\n",
       "    }\n",
       "\n",
       "    .dataframe tbody tr th {\n",
       "        vertical-align: top;\n",
       "    }\n",
       "\n",
       "    .dataframe thead th {\n",
       "        text-align: right;\n",
       "    }\n",
       "</style>\n",
       "<table border=\"1\" class=\"dataframe\">\n",
       "  <thead>\n",
       "    <tr style=\"text-align: right;\">\n",
       "      <th></th>\n",
       "      <th>country</th>\n",
       "      <th>r_coefficient</th>\n",
       "    </tr>\n",
       "  </thead>\n",
       "  <tbody>\n",
       "    <tr>\n",
       "      <th>46</th>\n",
       "      <td>Honduras</td>\n",
       "      <td>no_daily</td>\n",
       "    </tr>\n",
       "    <tr>\n",
       "      <th>97</th>\n",
       "      <td>Saint Helena</td>\n",
       "      <td>no_daily</td>\n",
       "    </tr>\n",
       "  </tbody>\n",
       "</table>\n",
       "</div>"
      ],
      "text/plain": [
       "         country r_coefficient\n",
       "46      Honduras      no_daily\n",
       "97  Saint Helena      no_daily"
      ]
     },
     "execution_count": 61,
     "metadata": {},
     "output_type": "execute_result"
    }
   ],
   "source": [
    "# countries that have no data available for daily vaccinations\n",
    "r_df[r_df['r_coefficient'] == \"no_daily\"]"
   ]
  },
  {
   "cell_type": "code",
   "execution_count": 62,
   "metadata": {},
   "outputs": [],
   "source": [
    "# replacing \"no_daily\" with nan\n",
    "r_df['r_coefficient'] = r_df['r_coefficient'].replace(\"no_daily\",np.nan)"
   ]
  },
  {
   "cell_type": "code",
   "execution_count": 63,
   "metadata": {},
   "outputs": [],
   "source": [
    "# add column for r^2\n",
    "r_df['r_squared'] = r_df['r_coefficient'] ** 2"
   ]
  },
  {
   "cell_type": "code",
   "execution_count": 64,
   "metadata": {},
   "outputs": [
    {
     "data": {
      "text/html": [
       "<div>\n",
       "<style scoped>\n",
       "    .dataframe tbody tr th:only-of-type {\n",
       "        vertical-align: middle;\n",
       "    }\n",
       "\n",
       "    .dataframe tbody tr th {\n",
       "        vertical-align: top;\n",
       "    }\n",
       "\n",
       "    .dataframe thead th {\n",
       "        text-align: right;\n",
       "    }\n",
       "</style>\n",
       "<table border=\"1\" class=\"dataframe\">\n",
       "  <thead>\n",
       "    <tr style=\"text-align: right;\">\n",
       "      <th></th>\n",
       "      <th>country</th>\n",
       "      <th>r_coefficient</th>\n",
       "      <th>r_squared</th>\n",
       "    </tr>\n",
       "  </thead>\n",
       "  <tbody>\n",
       "    <tr>\n",
       "      <th>0</th>\n",
       "      <td>Albania</td>\n",
       "      <td>0.762193</td>\n",
       "      <td>0.580939</td>\n",
       "    </tr>\n",
       "    <tr>\n",
       "      <th>1</th>\n",
       "      <td>Algeria</td>\n",
       "      <td>0.710389</td>\n",
       "      <td>0.504653</td>\n",
       "    </tr>\n",
       "    <tr>\n",
       "      <th>2</th>\n",
       "      <td>Andorra</td>\n",
       "      <td>0.198270</td>\n",
       "      <td>0.039311</td>\n",
       "    </tr>\n",
       "    <tr>\n",
       "      <th>3</th>\n",
       "      <td>Anguilla</td>\n",
       "      <td>-0.084690</td>\n",
       "      <td>0.007172</td>\n",
       "    </tr>\n",
       "    <tr>\n",
       "      <th>4</th>\n",
       "      <td>Argentina</td>\n",
       "      <td>0.667539</td>\n",
       "      <td>0.445608</td>\n",
       "    </tr>\n",
       "  </tbody>\n",
       "</table>\n",
       "</div>"
      ],
      "text/plain": [
       "     country  r_coefficient  r_squared\n",
       "0    Albania       0.762193   0.580939\n",
       "1    Algeria       0.710389   0.504653\n",
       "2    Andorra       0.198270   0.039311\n",
       "3   Anguilla      -0.084690   0.007172\n",
       "4  Argentina       0.667539   0.445608"
      ]
     },
     "execution_count": 64,
     "metadata": {},
     "output_type": "execute_result"
    }
   ],
   "source": [
    "r_df.head()"
   ]
  },
  {
   "cell_type": "code",
   "execution_count": 65,
   "metadata": {},
   "outputs": [],
   "source": [
    "# calculating proportion of countries within certain intervals\n",
    "interval_one = ((r_df.r_squared > 0) & (r_df.r_squared <= 0.01)).sum() / 125\n",
    "interval_two = ((r_df.r_squared > 0.01) & (r_df.r_squared <= 0.7)).sum() / 125\n",
    "interval_three = ((r_df.r_squared > 0.7) & (r_df.r_squared <= 0.8)).sum() / 125\n",
    "interval_four = ((r_df.r_squared > 0.8) & (r_df.r_squared <= 0.9)).sum() / 125\n",
    "interval_five = ((r_df.r_squared > 0.9) & (r_df.r_squared <= 1.0)).sum() / 125"
   ]
  },
  {
   "cell_type": "code",
   "execution_count": 66,
   "metadata": {},
   "outputs": [
    {
     "name": "stdout",
     "output_type": "stream",
     "text": [
      "Not enough data:\t 0.096\n",
      "\t(0,0.01]:\t 0.024\n",
      "\t(0.01,0.7]:\t 0.44\n",
      "\t(0.7,0.8]:\t 0.152\n",
      "\t(0.8,0.9]:\t 0.16\n",
      "\t(0.9,1.0]:\t 0.128\n"
     ]
    }
   ],
   "source": [
    "# print proportion of r^2 values in a certain interval\n",
    "print('Not enough data:\\t',(r_df.r_coefficient.isna().sum() / 125))\n",
    "print('\\t(0,0.01]:\\t', interval_one)\n",
    "print('\\t(0.01,0.7]:\\t', interval_two)\n",
    "print('\\t(0.7,0.8]:\\t', interval_three)\n",
    "print('\\t(0.8,0.9]:\\t', interval_four)\n",
    "print('\\t(0.9,1.0]:\\t', interval_five)"
   ]
  },
  {
   "cell_type": "code",
   "execution_count": 67,
   "metadata": {},
   "outputs": [
    {
     "data": {
      "text/html": [
       "<div>\n",
       "<style scoped>\n",
       "    .dataframe tbody tr th:only-of-type {\n",
       "        vertical-align: middle;\n",
       "    }\n",
       "\n",
       "    .dataframe tbody tr th {\n",
       "        vertical-align: top;\n",
       "    }\n",
       "\n",
       "    .dataframe thead th {\n",
       "        text-align: right;\n",
       "    }\n",
       "</style>\n",
       "<table border=\"1\" class=\"dataframe\">\n",
       "  <thead>\n",
       "    <tr style=\"text-align: right;\">\n",
       "      <th></th>\n",
       "      <th>country</th>\n",
       "      <th>r_coefficient</th>\n",
       "      <th>r_squared</th>\n",
       "    </tr>\n",
       "  </thead>\n",
       "  <tbody>\n",
       "    <tr>\n",
       "      <th>19</th>\n",
       "      <td>Canada</td>\n",
       "      <td>0.782222</td>\n",
       "      <td>0.611871</td>\n",
       "    </tr>\n",
       "  </tbody>\n",
       "</table>\n",
       "</div>"
      ],
      "text/plain": [
       "   country  r_coefficient  r_squared\n",
       "19  Canada       0.782222   0.611871"
      ]
     },
     "execution_count": 67,
     "metadata": {},
     "output_type": "execute_result"
    }
   ],
   "source": [
    "r_df[r_df['country'] == 'Canada']"
   ]
  },
  {
   "cell_type": "code",
   "execution_count": 90,
   "metadata": {},
   "outputs": [
    {
     "name": "stdout",
     "output_type": "stream",
     "text": [
      "Albania\n",
      "Algeria\n",
      "Andorra\n",
      "Anguilla\n",
      "Argentina\n",
      "Australia\n",
      "Austria\n",
      "Azerbaijan\n",
      "Bahrain\n",
      "Bangladesh\n",
      "Barbados\n",
      "Belarus\n",
      "Belgium\n",
      "Belize\n",
      "Bermuda\n",
      "Bolivia\n",
      "Brazil\n",
      "Bulgaria\n",
      "Cambodia\n",
      "Canada\n",
      "Cayman Islands\n",
      "Chile\n",
      "China\n",
      "Colombia\n",
      "Costa Rica\n",
      "Croatia\n",
      "Cyprus\n",
      "Czechia\n",
      "Denmark\n",
      "Dominican Republic\n",
      "Ecuador\n",
      "Egypt\n",
      "El Salvador\n",
      "England\n",
      "Estonia\n",
      "Faeroe Islands\n",
      "Falkland Islands\n",
      "Finland\n",
      "France\n",
      "Germany\n",
      "Gibraltar\n",
      "Greece\n",
      "Greenland\n",
      "Guatemala\n",
      "Guernsey\n",
      "Guyana\n",
      "Honduras\n",
      "Hong Kong\n",
      "Hungary\n",
      "Iceland\n",
      "India\n",
      "Indonesia\n",
      "Iran\n",
      "Ireland\n",
      "Isle of Man\n",
      "Israel\n",
      "Italy\n",
      "Japan\n",
      "Jersey\n",
      "Jordan\n",
      "Kazakhstan\n",
      "Kuwait\n",
      "Latvia\n",
      "Lebanon\n",
      "Liechtenstein\n",
      "Lithuania\n",
      "Luxembourg\n",
      "Macao\n",
      "Malaysia\n",
      "Maldives\n",
      "Malta\n",
      "Mauritius\n",
      "Mexico\n",
      "Monaco\n",
      "Mongolia\n",
      "Montenegro\n",
      "Montserrat\n",
      "Morocco\n",
      "Myanmar\n",
      "Nepal\n",
      "Netherlands\n",
      "New Zealand\n",
      "Northern Cyprus\n",
      "Northern Ireland\n",
      "Norway\n",
      "Oman\n",
      "Pakistan\n",
      "Panama\n",
      "Paraguay\n",
      "Peru\n",
      "Philippines\n",
      "Poland\n",
      "Portugal\n",
      "Qatar\n",
      "Romania\n",
      "Russia\n",
      "Rwanda\n",
      "Saint Helena\n",
      "San Marino\n",
      "Saudi Arabia\n",
      "Scotland\n",
      "Senegal\n",
      "Serbia\n",
      "Seychelles\n",
      "Singapore\n",
      "Slovakia\n",
      "Slovenia\n",
      "South Africa\n",
      "South Korea\n",
      "Spain\n",
      "Sri Lanka\n",
      "Sweden\n",
      "Switzerland\n",
      "Thailand\n",
      "Trinidad and Tobago\n",
      "Turkey\n",
      "Turks and Caicos Islands\n",
      "Ukraine\n",
      "United Arab Emirates\n",
      "United Kingdom\n",
      "United States\n",
      "Uruguay\n",
      "Venezuela\n",
      "Wales\n",
      "Zimbabwe\n"
     ]
    }
   ],
   "source": [
    "# initialize list for r coefficients\n",
    "r_coeff_list = []\n",
    "\n",
    "for country in country_list:\n",
    "    '''\n",
    "    calculate correlation coefficient r for each country\n",
    "    '''\n",
    "    print(country)\n",
    "    \n",
    "    # filter dataframe to country in current loop\n",
    "    country_df = df[df['country'] == country]   \n",
    "    \n",
    "    # select only date and daily_vaccinations columns\n",
    "    date_df = country_df[['date','total_vaccinations','daily_vaccinations']].sort_values('date',ascending=True) # sort by ascending date\n",
    "    \n",
    "    date_df[\"date\"] = pd.to_datetime(date_df[\"date\"])\n",
    "    \n",
    "    # convert date values to numeric\n",
    "    date_df[\"date\"] = pd.to_numeric(date_df[\"date\"])\n",
    "    \n",
    "    # drop any na values in the daily_vaccinations field\n",
    "    date_df = date_df.dropna()\n",
    "    \n",
    "    # check if there are no daily_vaccinations data available\n",
    "    if len(date_df['daily_vaccinations']) < 2:\n",
    "        r_coeff_list.append('no_daily')\n",
    "        continue\n",
    "    \n",
    "    # append data to dataframe\n",
    "    r_coeff_list.append(pearsonr(date_df['date'],date_df['total_vaccinations'])[0])"
   ]
  },
  {
   "cell_type": "code",
   "execution_count": 91,
   "metadata": {},
   "outputs": [],
   "source": [
    "# create a dataframe containing r_coefficient for each country\n",
    "d = {'country': country_list, 'r_coefficient': r_coeff_list}\n",
    "r_df = pd.DataFrame(data=d)"
   ]
  },
  {
   "cell_type": "code",
   "execution_count": 92,
   "metadata": {},
   "outputs": [
    {
     "data": {
      "text/html": [
       "<div>\n",
       "<style scoped>\n",
       "    .dataframe tbody tr th:only-of-type {\n",
       "        vertical-align: middle;\n",
       "    }\n",
       "\n",
       "    .dataframe tbody tr th {\n",
       "        vertical-align: top;\n",
       "    }\n",
       "\n",
       "    .dataframe thead th {\n",
       "        text-align: right;\n",
       "    }\n",
       "</style>\n",
       "<table border=\"1\" class=\"dataframe\">\n",
       "  <thead>\n",
       "    <tr style=\"text-align: right;\">\n",
       "      <th></th>\n",
       "      <th>country</th>\n",
       "      <th>r_coefficient</th>\n",
       "    </tr>\n",
       "  </thead>\n",
       "  <tbody>\n",
       "    <tr>\n",
       "      <th>0</th>\n",
       "      <td>Albania</td>\n",
       "      <td>0.829828</td>\n",
       "    </tr>\n",
       "    <tr>\n",
       "      <th>1</th>\n",
       "      <td>Algeria</td>\n",
       "      <td>1.000000</td>\n",
       "    </tr>\n",
       "    <tr>\n",
       "      <th>2</th>\n",
       "      <td>Andorra</td>\n",
       "      <td>0.983707</td>\n",
       "    </tr>\n",
       "    <tr>\n",
       "      <th>3</th>\n",
       "      <td>Anguilla</td>\n",
       "      <td>0.872241</td>\n",
       "    </tr>\n",
       "    <tr>\n",
       "      <th>4</th>\n",
       "      <td>Argentina</td>\n",
       "      <td>0.948567</td>\n",
       "    </tr>\n",
       "    <tr>\n",
       "      <th>...</th>\n",
       "      <td>...</td>\n",
       "      <td>...</td>\n",
       "    </tr>\n",
       "    <tr>\n",
       "      <th>120</th>\n",
       "      <td>United States</td>\n",
       "      <td>0.979299</td>\n",
       "    </tr>\n",
       "    <tr>\n",
       "      <th>121</th>\n",
       "      <td>Uruguay</td>\n",
       "      <td>0.979770</td>\n",
       "    </tr>\n",
       "    <tr>\n",
       "      <th>122</th>\n",
       "      <td>Venezuela</td>\n",
       "      <td>1.000000</td>\n",
       "    </tr>\n",
       "    <tr>\n",
       "      <th>123</th>\n",
       "      <td>Wales</td>\n",
       "      <td>0.978457</td>\n",
       "    </tr>\n",
       "    <tr>\n",
       "      <th>124</th>\n",
       "      <td>Zimbabwe</td>\n",
       "      <td>0.994264</td>\n",
       "    </tr>\n",
       "  </tbody>\n",
       "</table>\n",
       "<p>125 rows × 2 columns</p>\n",
       "</div>"
      ],
      "text/plain": [
       "           country r_coefficient\n",
       "0          Albania      0.829828\n",
       "1          Algeria      1.000000\n",
       "2          Andorra      0.983707\n",
       "3         Anguilla      0.872241\n",
       "4        Argentina      0.948567\n",
       "..             ...           ...\n",
       "120  United States      0.979299\n",
       "121        Uruguay      0.979770\n",
       "122      Venezuela      1.000000\n",
       "123          Wales      0.978457\n",
       "124       Zimbabwe      0.994264\n",
       "\n",
       "[125 rows x 2 columns]"
      ]
     },
     "execution_count": 92,
     "metadata": {},
     "output_type": "execute_result"
    }
   ],
   "source": [
    "r_df"
   ]
  },
  {
   "cell_type": "code",
   "execution_count": 93,
   "metadata": {},
   "outputs": [
    {
     "name": "stdout",
     "output_type": "stream",
     "text": [
      "Countries with no daily vaccinations data: 12\n",
      "Countries with missing data: 0\n"
     ]
    }
   ],
   "source": [
    "print(\"Countries with no daily vaccinations data:\",(r_df.r_coefficient == \"no_daily\").sum())\n",
    "print(\"Countries with missing data:\", r_df.r_coefficient.isna().sum())"
   ]
  },
  {
   "cell_type": "code",
   "execution_count": 94,
   "metadata": {},
   "outputs": [],
   "source": [
    "# replacing \"no_daily\" with nan\n",
    "r_df['r_coefficient'] = r_df['r_coefficient'].replace(\"no_daily\",np.nan)"
   ]
  },
  {
   "cell_type": "code",
   "execution_count": 95,
   "metadata": {},
   "outputs": [],
   "source": [
    "# add column for r^2\n",
    "r_df['r_squared'] = r_df['r_coefficient'] ** 2"
   ]
  },
  {
   "cell_type": "code",
   "execution_count": 96,
   "metadata": {},
   "outputs": [],
   "source": [
    "# calculating proportion of countries within certain intervals\n",
    "interval_one = ((r_df.r_squared > 0) & (r_df.r_squared <= 0.01)).sum() / 125\n",
    "interval_two = ((r_df.r_squared > 0.01) & (r_df.r_squared <= 0.7)).sum() / 125\n",
    "interval_three = ((r_df.r_squared > 0.7) & (r_df.r_squared <= 0.8)).sum() / 125\n",
    "interval_four = ((r_df.r_squared > 0.8) & (r_df.r_squared <= 0.9)).sum() / 125\n",
    "interval_five = ((r_df.r_squared > 0.9) & (r_df.r_squared <= 1.0)).sum() / 125"
   ]
  },
  {
   "cell_type": "code",
   "execution_count": 97,
   "metadata": {},
   "outputs": [
    {
     "name": "stdout",
     "output_type": "stream",
     "text": [
      "Not enough data:\t 0.096\n",
      "\t(0,0.01]:\t 0.0\n",
      "\t(0.01,0.7]:\t 0.024\n",
      "\t(0.7,0.8]:\t 0.072\n",
      "\t(0.8,0.9]:\t 0.04\n",
      "\t(0.9,1.0]:\t 0.768\n"
     ]
    }
   ],
   "source": [
    "# print proportion of r^2 values in a certain interval\n",
    "print('Not enough data:\\t',(r_df.r_coefficient.isna().sum() / 125))\n",
    "print('\\t(0,0.01]:\\t', interval_one)\n",
    "print('\\t(0.01,0.7]:\\t', interval_two)\n",
    "print('\\t(0.7,0.8]:\\t', interval_three)\n",
    "print('\\t(0.8,0.9]:\\t', interval_four)\n",
    "print('\\t(0.9,1.0]:\\t', interval_five)"
   ]
  },
  {
   "cell_type": "code",
   "execution_count": null,
   "metadata": {},
   "outputs": [],
   "source": []
  }
 ],
 "metadata": {
  "kernelspec": {
   "display_name": "Python 3",
   "language": "python",
   "name": "python3"
  },
  "language_info": {
   "codemirror_mode": {
    "name": "ipython",
    "version": 3
   },
   "file_extension": ".py",
   "mimetype": "text/x-python",
   "name": "python",
   "nbconvert_exporter": "python",
   "pygments_lexer": "ipython3",
   "version": "3.7.6"
  }
 },
 "nbformat": 4,
 "nbformat_minor": 4
}
